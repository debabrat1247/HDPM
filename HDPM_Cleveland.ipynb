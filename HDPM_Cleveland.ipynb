{
  "nbformat": 4,
  "nbformat_minor": 0,
  "metadata": {
    "colab": {
      "name": "HDPM_Cleveland.ipynb",
      "provenance": []
    },
    "kernelspec": {
      "name": "python3",
      "display_name": "Python 3"
    },
    "accelerator": "GPU"
  },
  "cells": [
    {
      "cell_type": "code",
      "metadata": {
        "colab": {
          "base_uri": "https://localhost:8080/"
        },
        "id": "uB2h5VVxxLy5",
        "outputId": "e17e1b0f-885a-48e7-bd68-2dbbb3b16254"
      },
      "source": [
        "from google.colab import drive \n",
        "drive.mount('/content/drive')"
      ],
      "execution_count": null,
      "outputs": [
        {
          "output_type": "stream",
          "text": [
            "Mounted at /content/drive\n"
          ],
          "name": "stdout"
        }
      ]
    },
    {
      "cell_type": "code",
      "metadata": {
        "id": "Etr6f7cmyN3D",
        "colab": {
          "base_uri": "https://localhost:8080/"
        },
        "outputId": "c24190cd-0e70-4981-83c4-4fef37c96a58"
      },
      "source": [
        "import numpy as np\n",
        "import random\n",
        "import xgboost as xgb\n",
        "from scipy.stats import zscore\n",
        "from sklearn.model_selection import RandomizedSearchCV, GridSearchCV, train_test_split\n",
        "from sklearn.model_selection import cross_validate\n",
        "import pandas as pd\n",
        "from pandas import read_csv\n",
        "from scipy.stats import pearsonr\n",
        "import math\n",
        "from matplotlib import pyplot as plt\n",
        "import statistics \n",
        "from xgboost import XGBClassifier\n",
        "from sklearn.model_selection import train_test_split\n",
        "from sklearn.metrics import accuracy_score,confusion_matrix,recall_score,precision_score,f1_score,roc_auc_score\n",
        "from imblearn.over_sampling import SMOTE\n",
        "from sklearn.decomposition import PCA\n",
        "from imblearn.combine import SMOTEENN\n",
        "from collections import Counter\n",
        "from sklearn.metrics import matthews_corrcoef"
      ],
      "execution_count": null,
      "outputs": [
        {
          "output_type": "stream",
          "text": [
            "/usr/local/lib/python3.7/dist-packages/sklearn/externals/six.py:31: FutureWarning: The module is deprecated in version 0.21 and will be removed in version 0.23 since we've dropped support for Python 2.7. Please rely on the official version of six (https://pypi.org/project/six/).\n",
            "  \"(https://pypi.org/project/six/).\", FutureWarning)\n",
            "/usr/local/lib/python3.7/dist-packages/sklearn/utils/deprecation.py:144: FutureWarning: The sklearn.neighbors.base module is  deprecated in version 0.22 and will be removed in version 0.24. The corresponding classes / functions should instead be imported from sklearn.neighbors. Anything that cannot be imported from sklearn.neighbors is now part of the private API.\n",
            "  warnings.warn(message, FutureWarning)\n"
          ],
          "name": "stderr"
        }
      ]
    },
    {
      "cell_type": "code",
      "metadata": {
        "colab": {
          "base_uri": "https://localhost:8080/",
          "height": 444
        },
        "id": "VrGHUnDQybSZ",
        "outputId": "75d5207c-a248-4362-d2ef-1d5c8bf560b1"
      },
      "source": [
        "data=read_csv(\"/content/drive/MyDrive/project6thsem/cleveland.xls\")\n",
        "data=pd.DataFrame(data)\n",
        "data=data.rename(columns={'target': 'presence'})\n",
        "df=data\n",
        "df"
      ],
      "execution_count": null,
      "outputs": [
        {
          "output_type": "execute_result",
          "data": {
            "text/html": [
              "<div>\n",
              "<style scoped>\n",
              "    .dataframe tbody tr th:only-of-type {\n",
              "        vertical-align: middle;\n",
              "    }\n",
              "\n",
              "    .dataframe tbody tr th {\n",
              "        vertical-align: top;\n",
              "    }\n",
              "\n",
              "    .dataframe thead th {\n",
              "        text-align: right;\n",
              "    }\n",
              "</style>\n",
              "<table border=\"1\" class=\"dataframe\">\n",
              "  <thead>\n",
              "    <tr style=\"text-align: right;\">\n",
              "      <th></th>\n",
              "      <th>age</th>\n",
              "      <th>sex</th>\n",
              "      <th>cp</th>\n",
              "      <th>trestbps</th>\n",
              "      <th>chol</th>\n",
              "      <th>fbs</th>\n",
              "      <th>restecg</th>\n",
              "      <th>thalach</th>\n",
              "      <th>exang</th>\n",
              "      <th>oldpeak</th>\n",
              "      <th>slope</th>\n",
              "      <th>ca</th>\n",
              "      <th>thal</th>\n",
              "      <th>presence</th>\n",
              "    </tr>\n",
              "  </thead>\n",
              "  <tbody>\n",
              "    <tr>\n",
              "      <th>0</th>\n",
              "      <td>63</td>\n",
              "      <td>1</td>\n",
              "      <td>3</td>\n",
              "      <td>145</td>\n",
              "      <td>233</td>\n",
              "      <td>1</td>\n",
              "      <td>0</td>\n",
              "      <td>150</td>\n",
              "      <td>0</td>\n",
              "      <td>2.3</td>\n",
              "      <td>0</td>\n",
              "      <td>0</td>\n",
              "      <td>1</td>\n",
              "      <td>1</td>\n",
              "    </tr>\n",
              "    <tr>\n",
              "      <th>1</th>\n",
              "      <td>37</td>\n",
              "      <td>1</td>\n",
              "      <td>2</td>\n",
              "      <td>130</td>\n",
              "      <td>250</td>\n",
              "      <td>0</td>\n",
              "      <td>1</td>\n",
              "      <td>187</td>\n",
              "      <td>0</td>\n",
              "      <td>3.5</td>\n",
              "      <td>0</td>\n",
              "      <td>0</td>\n",
              "      <td>2</td>\n",
              "      <td>1</td>\n",
              "    </tr>\n",
              "    <tr>\n",
              "      <th>2</th>\n",
              "      <td>41</td>\n",
              "      <td>0</td>\n",
              "      <td>1</td>\n",
              "      <td>130</td>\n",
              "      <td>204</td>\n",
              "      <td>0</td>\n",
              "      <td>0</td>\n",
              "      <td>172</td>\n",
              "      <td>0</td>\n",
              "      <td>1.4</td>\n",
              "      <td>2</td>\n",
              "      <td>0</td>\n",
              "      <td>2</td>\n",
              "      <td>1</td>\n",
              "    </tr>\n",
              "    <tr>\n",
              "      <th>3</th>\n",
              "      <td>56</td>\n",
              "      <td>1</td>\n",
              "      <td>1</td>\n",
              "      <td>120</td>\n",
              "      <td>236</td>\n",
              "      <td>0</td>\n",
              "      <td>1</td>\n",
              "      <td>178</td>\n",
              "      <td>0</td>\n",
              "      <td>0.8</td>\n",
              "      <td>2</td>\n",
              "      <td>0</td>\n",
              "      <td>2</td>\n",
              "      <td>1</td>\n",
              "    </tr>\n",
              "    <tr>\n",
              "      <th>4</th>\n",
              "      <td>57</td>\n",
              "      <td>0</td>\n",
              "      <td>0</td>\n",
              "      <td>120</td>\n",
              "      <td>354</td>\n",
              "      <td>0</td>\n",
              "      <td>1</td>\n",
              "      <td>163</td>\n",
              "      <td>1</td>\n",
              "      <td>0.6</td>\n",
              "      <td>2</td>\n",
              "      <td>0</td>\n",
              "      <td>2</td>\n",
              "      <td>1</td>\n",
              "    </tr>\n",
              "    <tr>\n",
              "      <th>...</th>\n",
              "      <td>...</td>\n",
              "      <td>...</td>\n",
              "      <td>...</td>\n",
              "      <td>...</td>\n",
              "      <td>...</td>\n",
              "      <td>...</td>\n",
              "      <td>...</td>\n",
              "      <td>...</td>\n",
              "      <td>...</td>\n",
              "      <td>...</td>\n",
              "      <td>...</td>\n",
              "      <td>...</td>\n",
              "      <td>...</td>\n",
              "      <td>...</td>\n",
              "    </tr>\n",
              "    <tr>\n",
              "      <th>298</th>\n",
              "      <td>57</td>\n",
              "      <td>0</td>\n",
              "      <td>0</td>\n",
              "      <td>140</td>\n",
              "      <td>241</td>\n",
              "      <td>0</td>\n",
              "      <td>1</td>\n",
              "      <td>123</td>\n",
              "      <td>1</td>\n",
              "      <td>0.2</td>\n",
              "      <td>1</td>\n",
              "      <td>0</td>\n",
              "      <td>3</td>\n",
              "      <td>0</td>\n",
              "    </tr>\n",
              "    <tr>\n",
              "      <th>299</th>\n",
              "      <td>45</td>\n",
              "      <td>1</td>\n",
              "      <td>3</td>\n",
              "      <td>110</td>\n",
              "      <td>264</td>\n",
              "      <td>0</td>\n",
              "      <td>1</td>\n",
              "      <td>132</td>\n",
              "      <td>0</td>\n",
              "      <td>1.2</td>\n",
              "      <td>1</td>\n",
              "      <td>0</td>\n",
              "      <td>3</td>\n",
              "      <td>0</td>\n",
              "    </tr>\n",
              "    <tr>\n",
              "      <th>300</th>\n",
              "      <td>68</td>\n",
              "      <td>1</td>\n",
              "      <td>0</td>\n",
              "      <td>144</td>\n",
              "      <td>193</td>\n",
              "      <td>1</td>\n",
              "      <td>1</td>\n",
              "      <td>141</td>\n",
              "      <td>0</td>\n",
              "      <td>3.4</td>\n",
              "      <td>1</td>\n",
              "      <td>2</td>\n",
              "      <td>3</td>\n",
              "      <td>0</td>\n",
              "    </tr>\n",
              "    <tr>\n",
              "      <th>301</th>\n",
              "      <td>57</td>\n",
              "      <td>1</td>\n",
              "      <td>0</td>\n",
              "      <td>130</td>\n",
              "      <td>131</td>\n",
              "      <td>0</td>\n",
              "      <td>1</td>\n",
              "      <td>115</td>\n",
              "      <td>1</td>\n",
              "      <td>1.2</td>\n",
              "      <td>1</td>\n",
              "      <td>1</td>\n",
              "      <td>3</td>\n",
              "      <td>0</td>\n",
              "    </tr>\n",
              "    <tr>\n",
              "      <th>302</th>\n",
              "      <td>57</td>\n",
              "      <td>0</td>\n",
              "      <td>1</td>\n",
              "      <td>130</td>\n",
              "      <td>236</td>\n",
              "      <td>0</td>\n",
              "      <td>0</td>\n",
              "      <td>174</td>\n",
              "      <td>0</td>\n",
              "      <td>0.0</td>\n",
              "      <td>1</td>\n",
              "      <td>1</td>\n",
              "      <td>2</td>\n",
              "      <td>0</td>\n",
              "    </tr>\n",
              "  </tbody>\n",
              "</table>\n",
              "<p>303 rows × 14 columns</p>\n",
              "</div>"
            ],
            "text/plain": [
              "     age  sex  cp  trestbps  chol  ...  oldpeak  slope  ca  thal  presence\n",
              "0     63    1   3       145   233  ...      2.3      0   0     1         1\n",
              "1     37    1   2       130   250  ...      3.5      0   0     2         1\n",
              "2     41    0   1       130   204  ...      1.4      2   0     2         1\n",
              "3     56    1   1       120   236  ...      0.8      2   0     2         1\n",
              "4     57    0   0       120   354  ...      0.6      2   0     2         1\n",
              "..   ...  ...  ..       ...   ...  ...      ...    ...  ..   ...       ...\n",
              "298   57    0   0       140   241  ...      0.2      1   0     3         0\n",
              "299   45    1   3       110   264  ...      1.2      1   0     3         0\n",
              "300   68    1   0       144   193  ...      3.4      1   2     3         0\n",
              "301   57    1   0       130   131  ...      1.2      1   1     3         0\n",
              "302   57    0   1       130   236  ...      0.0      1   1     2         0\n",
              "\n",
              "[303 rows x 14 columns]"
            ]
          },
          "metadata": {
            "tags": []
          },
          "execution_count": 3
        }
      ]
    },
    {
      "cell_type": "code",
      "metadata": {
        "colab": {
          "base_uri": "https://localhost:8080/"
        },
        "id": "eD7g3GPTHGTG",
        "outputId": "ce7d7e41-6ec5-4e3a-8bcb-c9ddaa554ec1"
      },
      "source": [
        "attribute={}\n",
        "for i in range(len(df.columns)):\n",
        "  attribute[df.columns[i]]=i;\n",
        "\n",
        "attribute"
      ],
      "execution_count": null,
      "outputs": [
        {
          "output_type": "execute_result",
          "data": {
            "text/plain": [
              "{'age': 0,\n",
              " 'ca': 11,\n",
              " 'chol': 4,\n",
              " 'cp': 2,\n",
              " 'exang': 8,\n",
              " 'fbs': 5,\n",
              " 'oldpeak': 9,\n",
              " 'presence': 13,\n",
              " 'restecg': 6,\n",
              " 'sex': 1,\n",
              " 'slope': 10,\n",
              " 'thal': 12,\n",
              " 'thalach': 7,\n",
              " 'trestbps': 3}"
            ]
          },
          "metadata": {
            "tags": []
          },
          "execution_count": 4
        }
      ]
    },
    {
      "cell_type": "code",
      "metadata": {
        "colab": {
          "base_uri": "https://localhost:8080/"
        },
        "id": "MvgCPwVtIkY_",
        "outputId": "8233f4ba-91c4-4aa3-d051-bfcee913e020"
      },
      "source": [
        "no_attribute={}\n",
        "for i in attribute:\n",
        "  no_attribute[attribute[i]]=i\n",
        "\n",
        "no_attribute"
      ],
      "execution_count": null,
      "outputs": [
        {
          "output_type": "execute_result",
          "data": {
            "text/plain": [
              "{0: 'age',\n",
              " 1: 'sex',\n",
              " 2: 'cp',\n",
              " 3: 'trestbps',\n",
              " 4: 'chol',\n",
              " 5: 'fbs',\n",
              " 6: 'restecg',\n",
              " 7: 'thalach',\n",
              " 8: 'exang',\n",
              " 9: 'oldpeak',\n",
              " 10: 'slope',\n",
              " 11: 'ca',\n",
              " 12: 'thal',\n",
              " 13: 'presence'}"
            ]
          },
          "metadata": {
            "tags": []
          },
          "execution_count": 5
        }
      ]
    },
    {
      "cell_type": "code",
      "metadata": {
        "colab": {
          "base_uri": "https://localhost:8080/"
        },
        "id": "JeAXTfe_IWFR",
        "outputId": "a647f8a1-ea9e-4415-b8e3-d9a10af1ef6e"
      },
      "source": [
        "data=np.array(df)\n",
        "data"
      ],
      "execution_count": null,
      "outputs": [
        {
          "output_type": "execute_result",
          "data": {
            "text/plain": [
              "array([[63.,  1.,  3., ...,  0.,  1.,  1.],\n",
              "       [37.,  1.,  2., ...,  0.,  2.,  1.],\n",
              "       [41.,  0.,  1., ...,  0.,  2.,  1.],\n",
              "       ...,\n",
              "       [68.,  1.,  0., ...,  2.,  3.,  0.],\n",
              "       [57.,  1.,  0., ...,  1.,  3.,  0.],\n",
              "       [57.,  0.,  1., ...,  1.,  2.,  0.]])"
            ]
          },
          "metadata": {
            "tags": []
          },
          "execution_count": 6
        }
      ]
    },
    {
      "cell_type": "code",
      "metadata": {
        "colab": {
          "base_uri": "https://localhost:8080/"
        },
        "id": "rTIFQIAjLDBb",
        "outputId": "909da40d-a2f4-4e99-c7f4-9d1fa43b2a3b"
      },
      "source": [
        "class_count={}\n",
        "for ind in df.index:\n",
        "  if(df['presence'][ind] in class_count):\n",
        "    class_count[df['presence'][ind]]+=1\n",
        "  else:\n",
        "    class_count[df['presence'][ind]]=1\n",
        "\n",
        "class_count"
      ],
      "execution_count": null,
      "outputs": [
        {
          "output_type": "execute_result",
          "data": {
            "text/plain": [
              "{0: 138, 1: 165}"
            ]
          },
          "metadata": {
            "tags": []
          },
          "execution_count": 7
        }
      ]
    },
    {
      "cell_type": "markdown",
      "metadata": {
        "id": "anTRrQU9BqNj"
      },
      "source": [
        "**1.Data Preprocessing**"
      ]
    },
    {
      "cell_type": "code",
      "metadata": {
        "id": "sDTagRZ4609t"
      },
      "source": [
        "data_attr=[[] for i in range(14)]\n",
        "for i in range(len(data)):\n",
        "  for j in range(14):\n",
        "    data_attr[j].append(data[i][j])\n",
        "\n",
        "feature=[[] for i in range(13)]\n",
        "for i in range(len(data)):\n",
        "  for j in range(13):\n",
        "    feature[j].append(data[i][j])"
      ],
      "execution_count": null,
      "outputs": []
    },
    {
      "cell_type": "code",
      "metadata": {
        "colab": {
          "base_uri": "https://localhost:8080/"
        },
        "id": "bZRpF8gg26ra",
        "outputId": "02d2d6a2-6273-4ffe-ac14-c91f7b5de2da"
      },
      "source": [
        "feature_pos=[[] for i in range(13)]\n",
        "for i in range(len(data)):\n",
        "  for j in range(13):\n",
        "    if(data[i][13]==1):\n",
        "      feature_pos[j].append(data[i][j])\n",
        "feature_neg=[[] for i in range(13)]\n",
        "for i in range(len(data)):\n",
        "  for j in range(13):\n",
        "    if(data[i][13]==0):\n",
        "      feature_neg[j].append(data[i][j])\n",
        "print(\"Attribute\",\"Mean(Present)\",\"stddev(Present)\",\"Mean(Absent)\",\"stddev(Absent)\")\n",
        "for i in range(len(feature)):\n",
        "  print(no_attribute[i],statistics.mean(feature_pos[i]),statistics.stdev(feature_pos[i]),statistics.mean(feature_neg[i]),statistics.stdev(feature_neg[i]))"
      ],
      "execution_count": null,
      "outputs": [
        {
          "output_type": "stream",
          "text": [
            "Attribute Mean(Present) stddev(Present) Mean(Absent) stddev(Absent)\n",
            "age 52.4969696969697 9.550650751946774 56.60144927536232 7.96208153750117\n",
            "sex 0.5636363636363636 0.49744357555882157 0.8260869565217391 0.38041551386121214\n",
            "cp 1.3757575757575757 0.9522215049717543 0.4782608695652174 0.9059204401375942\n",
            "trestbps 129.3030303030303 16.169613266874865 134.3985507246377 18.72994396158135\n",
            "chol 242.23030303030302 53.552871554538335 251.08695652173913 49.45461360407159\n",
            "fbs 0.1393939393939394 0.34741150297891615 0.15942028985507245 0.36740114737023677\n",
            "restecg 0.593939393939394 0.5048178818796776 0.4492753623188406 0.5413212245494148\n",
            "thalach 158.46666666666667 19.174275619393168 139.1014492753623 22.598782298785906\n",
            "exang 0.1393939393939394 0.34741150297891615 0.5507246376811594 0.49923245858990556\n",
            "oldpeak 0.583030303030303 0.7806832719018301 1.5855072463768116 1.300339693105365\n",
            "slope 1.593939393939394 0.5936346262434834 1.1666666666666667 0.5613244677999094\n",
            "ca 0.36363636363636365 0.8488938935886287 1.1666666666666667 1.0434595276713312\n",
            "thal 2.121212121212121 0.465752456860608 2.5434782608695654 0.6847618288848198\n"
          ],
          "name": "stdout"
        }
      ]
    },
    {
      "cell_type": "markdown",
      "metadata": {
        "id": "NvSUoqb9Ad-a"
      },
      "source": [
        "Data correlation by utilizing\n",
        "Pearson’s Correlation Coefficient (PCC) can be used as a calculation tool to determine the relationship between attributes.\n",
        "PCC varies from −1 to +1, with a positive and a negative value indicating a highly positive and highly negative\n",
        "correlation between the variables, respectively, and a value\n",
        "close to zero indicating a low correlation between them."
      ]
    },
    {
      "cell_type": "code",
      "metadata": {
        "colab": {
          "base_uri": "https://localhost:8080/"
        },
        "id": "hCdsTx-U7-uT",
        "outputId": "206031de-5ed3-43ae-9896-96dd61c2f105"
      },
      "source": [
        "# Pearson’s Correlation Coefficient (PPC)\n",
        "PCC=[[0 for i in range(14)] for i in range(14)]\n",
        "for i in range(14):\n",
        "  for j in range(14):\n",
        "    corr, _ = pearsonr(data_attr[i], data_attr[j])\n",
        "    PCC[i][j]=corr\n",
        "\n",
        "for i in range(14):\n",
        "  print(no_attribute[i],end=\" \")\n",
        "print()\n",
        "for i in range(14):\n",
        "  \n",
        "  for j in range(14):\n",
        "    if(PCC[i][j]<0):\n",
        "      print(\"%.2f\"%PCC[i][j],end=\" \")\n",
        "    else:\n",
        "      print(\"%.3f\"%PCC[i][j],end=\" \")\n",
        "  print()\n"
      ],
      "execution_count": null,
      "outputs": [
        {
          "output_type": "stream",
          "text": [
            "age sex cp trestbps chol fbs restecg thalach exang oldpeak slope ca thal presence \n",
            "1.000 -0.10 -0.07 0.279 0.214 0.121 -0.12 -0.40 0.097 0.210 -0.17 0.276 0.068 -0.23 \n",
            "-0.10 1.000 -0.05 -0.06 -0.20 0.045 -0.06 -0.04 0.142 0.096 -0.03 0.118 0.210 -0.28 \n",
            "-0.07 -0.05 1.000 0.048 -0.08 0.094 0.044 0.296 -0.39 -0.15 0.120 -0.18 -0.16 0.434 \n",
            "0.279 -0.06 0.048 1.000 0.123 0.178 -0.11 -0.05 0.068 0.193 -0.12 0.101 0.062 -0.14 \n",
            "0.214 -0.20 -0.08 0.123 1.000 0.013 -0.15 -0.01 0.067 0.054 -0.00 0.071 0.099 -0.09 \n",
            "0.121 0.045 0.094 0.178 0.013 1.000 -0.08 -0.01 0.026 0.006 -0.06 0.138 -0.03 -0.03 \n",
            "-0.12 -0.06 0.044 -0.11 -0.15 -0.08 1.000 0.044 -0.07 -0.06 0.093 -0.07 -0.01 0.137 \n",
            "-0.40 -0.04 0.296 -0.05 -0.01 -0.01 0.044 1.000 -0.38 -0.34 0.387 -0.21 -0.10 0.422 \n",
            "0.097 0.142 -0.39 0.068 0.067 0.026 -0.07 -0.38 1.000 0.288 -0.26 0.116 0.207 -0.44 \n",
            "0.210 0.096 -0.15 0.193 0.054 0.006 -0.06 -0.34 0.288 1.000 -0.58 0.223 0.210 -0.43 \n",
            "-0.17 -0.03 0.120 -0.12 -0.00 -0.06 0.093 0.387 -0.26 -0.58 1.000 -0.08 -0.10 0.346 \n",
            "0.276 0.118 -0.18 0.101 0.071 0.138 -0.07 -0.21 0.116 0.223 -0.08 1.000 0.152 -0.39 \n",
            "0.068 0.210 -0.16 0.062 0.099 -0.03 -0.01 -0.10 0.207 0.210 -0.10 0.152 1.000 -0.34 \n",
            "-0.23 -0.28 0.434 -0.14 -0.09 -0.03 0.137 0.422 -0.44 -0.43 0.346 -0.39 -0.34 1.000 \n"
          ],
          "name": "stdout"
        }
      ]
    },
    {
      "cell_type": "markdown",
      "metadata": {
        "id": "jbylYFy-ACQy"
      },
      "source": [
        "The attributes **chol and fbs** are seen to have a correlation that is close to 0 toward the attribute class, which suggests that both only have a small or even no correlation with the attribute class. Thus, we could possibly remove these features to improve the performance of our proposed model."
      ]
    },
    {
      "cell_type": "markdown",
      "metadata": {
        "id": "4Hxao-e4B-pr"
      },
      "source": [
        "**Attribute selection by using the\n",
        "Information Gain**"
      ]
    },
    {
      "cell_type": "code",
      "metadata": {
        "id": "8d1gBiCwe9k4"
      },
      "source": [
        "def entropy_func(c, n):\n",
        "    \"\"\"\n",
        "    The math formula\n",
        "    \"\"\"\n",
        "    return -(c*1.0/n)*math.log(c*1.0/n, 2)"
      ],
      "execution_count": null,
      "outputs": []
    },
    {
      "cell_type": "code",
      "metadata": {
        "id": "JeepUEg4fDxY"
      },
      "source": [
        "def entropy_cal(c1, c2):\n",
        "    \"\"\"\n",
        "    Returns entropy of a group of data\n",
        "    c1: count of one class\n",
        "    c2: count of another class\n",
        "    \"\"\"\n",
        "    if c1== 0 or c2 == 0:  # when there is only one class in the group, entropy is 0\n",
        "        return 0\n",
        "    return entropy_func(c1, c1+c2) + entropy_func(c2, c1+c2)"
      ],
      "execution_count": null,
      "outputs": []
    },
    {
      "cell_type": "code",
      "metadata": {
        "id": "oPqdzbGAfLMN"
      },
      "source": [
        "def get_entropy(y_predict, y_real):\n",
        "    \"\"\"\n",
        "    Returns entropy of a split\n",
        "    y_predict is the split decision, True/Fasle, and y_true can be multi class\n",
        "    \"\"\"\n",
        "\n",
        "    \n",
        "    if len(y_predict) != len(y_real):\n",
        "        print('They have to be the same length')\n",
        "        return None\n",
        "    n = len(y_real)\n",
        "    \n",
        "    y_real=np.array(y_real)\n",
        "    y_predict=np.array(y_predict)\n",
        "    \n",
        "    s_true, n_true = entropy_of_one_division(y_real[y_predict]) # left hand side entropy\n",
        "    s_false, n_false = entropy_of_one_division(y_real[~y_predict]) # right hand side entropy\n",
        "    s = n_true*1.0/n * s_true + n_false*1.0/n * s_false # overall entropy, again weighted average\n",
        "    return s"
      ],
      "execution_count": null,
      "outputs": []
    },
    {
      "cell_type": "code",
      "metadata": {
        "id": "dpp28AS-fHy9"
      },
      "source": [
        "def entropy_of_one_division(division): \n",
        "    \"\"\"\n",
        "    Returns entropy of a divided group of data\n",
        "    Data may have multiple classes\n",
        "    \"\"\"\n",
        "    s = 0\n",
        "    n = len(division)\n",
        "    \n",
        "    classes = set(division)\n",
        "    for c in classes:   # for each class, get entropy\n",
        "        n_c = sum(division==c)\n",
        "        e = n_c*1.0/n * entropy_cal(sum(division==c), sum(division!=c)) # weighted avg\n",
        "        s += e\n",
        "    return s, n"
      ],
      "execution_count": null,
      "outputs": []
    },
    {
      "cell_type": "code",
      "metadata": {
        "id": "n2cfEtAdgJZI"
      },
      "source": [
        "def find_best_split( col, y):\n",
        "  \"\"\"\n",
        "  col: the column we split on\n",
        "  y: target var\n",
        "  \"\"\"\n",
        "  \n",
        "  min_entropy = 10    \n",
        "  n = len(y)\n",
        "  \n",
        "  for value in set(col):  # iterating through each value in the column\n",
        "    y_predict = col < value  # separate y into 2 groups\n",
        "    my_entropy = get_entropy(y_predict, y)  # get entropy of this split\n",
        "    if my_entropy <= min_entropy:  # check if it's the best one so far\n",
        "      min_entropy = my_entropy\n",
        "      cutoff = value\n",
        "  return min_entropy, cutoff"
      ],
      "execution_count": null,
      "outputs": []
    },
    {
      "cell_type": "code",
      "metadata": {
        "colab": {
          "base_uri": "https://localhost:8080/"
        },
        "id": "NMV-DH_TIxUO",
        "outputId": "00badd80-caea-4e65-9de7-32de22b33902"
      },
      "source": [
        "c_0=0\n",
        "c_1=0\n",
        "\n",
        "for i in data_attr[13]:\n",
        "  if i==0:\n",
        "    c_0+=1\n",
        "  else:\n",
        "    c_1+=1\n",
        "\n",
        "Entropy_data=entropy_cal(c_0,c_1)\n",
        "print(\"Entropy of class ==> \",Entropy_data)"
      ],
      "execution_count": null,
      "outputs": [
        {
          "output_type": "stream",
          "text": [
            "Entropy of class ==>  0.994264609261905\n"
          ],
          "name": "stdout"
        }
      ]
    },
    {
      "cell_type": "code",
      "metadata": {
        "id": "E4aZJbczhs59"
      },
      "source": [
        "info_gain={}\n",
        "for i in range(13):\n",
        "  entropy, cur_cutoff = find_best_split(data_attr[i], data_attr[13])\n",
        "  info_gain[no_attribute[i]]=Entropy_data-entropy\n"
      ],
      "execution_count": null,
      "outputs": []
    },
    {
      "cell_type": "code",
      "metadata": {
        "colab": {
          "base_uri": "https://localhost:8080/"
        },
        "id": "qihw1VVbJU4q",
        "outputId": "76204f6c-ab63-4f8a-891a-4ecb11d04f12"
      },
      "source": [
        "info_gain"
      ],
      "execution_count": null,
      "outputs": [
        {
          "output_type": "execute_result",
          "data": {
            "text/plain": [
              "{'age': 0.060166523467038546,\n",
              " 'ca': 0.16174294419259028,\n",
              " 'chol': 0.017492526290564303,\n",
              " 'cp': 0.20125248993687062,\n",
              " 'exang': 0.14221049399658625,\n",
              " 'fbs': 0.0005658824294302311,\n",
              " 'oldpeak': 0.1239665129712032,\n",
              " 'restecg': 0.01848591976374625,\n",
              " 'sex': 0.05913830859322644,\n",
              " 'slope': 0.1156923875099215,\n",
              " 'thal': 0.17704078036258974,\n",
              " 'thalach': 0.12965186453697597,\n",
              " 'trestbps': 0.0155132732855785}"
            ]
          },
          "metadata": {
            "tags": []
          },
          "execution_count": 18
        }
      ]
    },
    {
      "cell_type": "code",
      "metadata": {
        "colab": {
          "base_uri": "https://localhost:8080/",
          "height": 295
        },
        "id": "wK3HvDHkKboz",
        "outputId": "9e79007b-929a-4438-d9c5-624a8d9125c7"
      },
      "source": [
        "temp1=[]\n",
        "temp2=[]\n",
        "\n",
        "for i in info_gain:\n",
        "  temp1.append(i)\n",
        "  temp2.append(info_gain[i])\n",
        "\n",
        "fig = plt.figure(figsize = (15, 5)) \n",
        "plt.ylabel(\"Information gain\")\n",
        "plt.xlabel(\"Attribute\")\n",
        "plt.bar(temp1,temp2)\n",
        "plt.show()"
      ],
      "execution_count": null,
      "outputs": [
        {
          "output_type": "display_data",
          "data": {
            "image/png": "[encoded data removed]",
            "text/plain": [
              "<Figure size 1080x360 with 1 Axes>"
            ]
          },
          "metadata": {
            "tags": [],
            "needs_background": "light"
          }
        }
      ]
    },
    {
      "cell_type": "markdown",
      "metadata": {
        "id": "mhmig4aNudtg"
      },
      "source": [
        "As we can see the information gain of attribute **fbs,trestbps,chol,restecg** is very close to 0 . So, we can remove these feature."
      ]
    },
    {
      "cell_type": "code",
      "metadata": {
        "colab": {
          "base_uri": "https://localhost:8080/",
          "height": 424
        },
        "id": "5JdNHDVBvo-x",
        "outputId": "03ccfdee-877c-4624-cb8f-df8355d25ab4"
      },
      "source": [
        "df=df.drop(['fbs', 'trestbps','chol'], axis=1)\n",
        "df"
      ],
      "execution_count": null,
      "outputs": [
        {
          "output_type": "execute_result",
          "data": {
            "text/html": [
              "<div>\n",
              "<style scoped>\n",
              "    .dataframe tbody tr th:only-of-type {\n",
              "        vertical-align: middle;\n",
              "    }\n",
              "\n",
              "    .dataframe tbody tr th {\n",
              "        vertical-align: top;\n",
              "    }\n",
              "\n",
              "    .dataframe thead th {\n",
              "        text-align: right;\n",
              "    }\n",
              "</style>\n",
              "<table border=\"1\" class=\"dataframe\">\n",
              "  <thead>\n",
              "    <tr style=\"text-align: right;\">\n",
              "      <th></th>\n",
              "      <th>age</th>\n",
              "      <th>sex</th>\n",
              "      <th>cp</th>\n",
              "      <th>restecg</th>\n",
              "      <th>thalach</th>\n",
              "      <th>exang</th>\n",
              "      <th>oldpeak</th>\n",
              "      <th>slope</th>\n",
              "      <th>ca</th>\n",
              "      <th>thal</th>\n",
              "      <th>presence</th>\n",
              "    </tr>\n",
              "  </thead>\n",
              "  <tbody>\n",
              "    <tr>\n",
              "      <th>0</th>\n",
              "      <td>63</td>\n",
              "      <td>1</td>\n",
              "      <td>3</td>\n",
              "      <td>0</td>\n",
              "      <td>150</td>\n",
              "      <td>0</td>\n",
              "      <td>2.3</td>\n",
              "      <td>0</td>\n",
              "      <td>0</td>\n",
              "      <td>1</td>\n",
              "      <td>1</td>\n",
              "    </tr>\n",
              "    <tr>\n",
              "      <th>1</th>\n",
              "      <td>37</td>\n",
              "      <td>1</td>\n",
              "      <td>2</td>\n",
              "      <td>1</td>\n",
              "      <td>187</td>\n",
              "      <td>0</td>\n",
              "      <td>3.5</td>\n",
              "      <td>0</td>\n",
              "      <td>0</td>\n",
              "      <td>2</td>\n",
              "      <td>1</td>\n",
              "    </tr>\n",
              "    <tr>\n",
              "      <th>2</th>\n",
              "      <td>41</td>\n",
              "      <td>0</td>\n",
              "      <td>1</td>\n",
              "      <td>0</td>\n",
              "      <td>172</td>\n",
              "      <td>0</td>\n",
              "      <td>1.4</td>\n",
              "      <td>2</td>\n",
              "      <td>0</td>\n",
              "      <td>2</td>\n",
              "      <td>1</td>\n",
              "    </tr>\n",
              "    <tr>\n",
              "      <th>3</th>\n",
              "      <td>56</td>\n",
              "      <td>1</td>\n",
              "      <td>1</td>\n",
              "      <td>1</td>\n",
              "      <td>178</td>\n",
              "      <td>0</td>\n",
              "      <td>0.8</td>\n",
              "      <td>2</td>\n",
              "      <td>0</td>\n",
              "      <td>2</td>\n",
              "      <td>1</td>\n",
              "    </tr>\n",
              "    <tr>\n",
              "      <th>4</th>\n",
              "      <td>57</td>\n",
              "      <td>0</td>\n",
              "      <td>0</td>\n",
              "      <td>1</td>\n",
              "      <td>163</td>\n",
              "      <td>1</td>\n",
              "      <td>0.6</td>\n",
              "      <td>2</td>\n",
              "      <td>0</td>\n",
              "      <td>2</td>\n",
              "      <td>1</td>\n",
              "    </tr>\n",
              "    <tr>\n",
              "      <th>...</th>\n",
              "      <td>...</td>\n",
              "      <td>...</td>\n",
              "      <td>...</td>\n",
              "      <td>...</td>\n",
              "      <td>...</td>\n",
              "      <td>...</td>\n",
              "      <td>...</td>\n",
              "      <td>...</td>\n",
              "      <td>...</td>\n",
              "      <td>...</td>\n",
              "      <td>...</td>\n",
              "    </tr>\n",
              "    <tr>\n",
              "      <th>298</th>\n",
              "      <td>57</td>\n",
              "      <td>0</td>\n",
              "      <td>0</td>\n",
              "      <td>1</td>\n",
              "      <td>123</td>\n",
              "      <td>1</td>\n",
              "      <td>0.2</td>\n",
              "      <td>1</td>\n",
              "      <td>0</td>\n",
              "      <td>3</td>\n",
              "      <td>0</td>\n",
              "    </tr>\n",
              "    <tr>\n",
              "      <th>299</th>\n",
              "      <td>45</td>\n",
              "      <td>1</td>\n",
              "      <td>3</td>\n",
              "      <td>1</td>\n",
              "      <td>132</td>\n",
              "      <td>0</td>\n",
              "      <td>1.2</td>\n",
              "      <td>1</td>\n",
              "      <td>0</td>\n",
              "      <td>3</td>\n",
              "      <td>0</td>\n",
              "    </tr>\n",
              "    <tr>\n",
              "      <th>300</th>\n",
              "      <td>68</td>\n",
              "      <td>1</td>\n",
              "      <td>0</td>\n",
              "      <td>1</td>\n",
              "      <td>141</td>\n",
              "      <td>0</td>\n",
              "      <td>3.4</td>\n",
              "      <td>1</td>\n",
              "      <td>2</td>\n",
              "      <td>3</td>\n",
              "      <td>0</td>\n",
              "    </tr>\n",
              "    <tr>\n",
              "      <th>301</th>\n",
              "      <td>57</td>\n",
              "      <td>1</td>\n",
              "      <td>0</td>\n",
              "      <td>1</td>\n",
              "      <td>115</td>\n",
              "      <td>1</td>\n",
              "      <td>1.2</td>\n",
              "      <td>1</td>\n",
              "      <td>1</td>\n",
              "      <td>3</td>\n",
              "      <td>0</td>\n",
              "    </tr>\n",
              "    <tr>\n",
              "      <th>302</th>\n",
              "      <td>57</td>\n",
              "      <td>0</td>\n",
              "      <td>1</td>\n",
              "      <td>0</td>\n",
              "      <td>174</td>\n",
              "      <td>0</td>\n",
              "      <td>0.0</td>\n",
              "      <td>1</td>\n",
              "      <td>1</td>\n",
              "      <td>2</td>\n",
              "      <td>0</td>\n",
              "    </tr>\n",
              "  </tbody>\n",
              "</table>\n",
              "<p>303 rows × 11 columns</p>\n",
              "</div>"
            ],
            "text/plain": [
              "     age  sex  cp  restecg  thalach  exang  oldpeak  slope  ca  thal  presence\n",
              "0     63    1   3        0      150      0      2.3      0   0     1         1\n",
              "1     37    1   2        1      187      0      3.5      0   0     2         1\n",
              "2     41    0   1        0      172      0      1.4      2   0     2         1\n",
              "3     56    1   1        1      178      0      0.8      2   0     2         1\n",
              "4     57    0   0        1      163      1      0.6      2   0     2         1\n",
              "..   ...  ...  ..      ...      ...    ...      ...    ...  ..   ...       ...\n",
              "298   57    0   0        1      123      1      0.2      1   0     3         0\n",
              "299   45    1   3        1      132      0      1.2      1   0     3         0\n",
              "300   68    1   0        1      141      0      3.4      1   2     3         0\n",
              "301   57    1   0        1      115      1      1.2      1   1     3         0\n",
              "302   57    0   1        0      174      0      0.0      1   1     2         0\n",
              "\n",
              "[303 rows x 11 columns]"
            ]
          },
          "metadata": {
            "tags": []
          },
          "execution_count": 20
        }
      ]
    },
    {
      "cell_type": "markdown",
      "metadata": {
        "id": "R2orwCTzK3j5"
      },
      "source": [
        "**Outlier detection and removal using DBSCAN**"
      ]
    },
    {
      "cell_type": "code",
      "metadata": {
        "id": "uvmOzXSIyM19"
      },
      "source": [
        "def DBSCAN(d,eps,minpts):\n",
        "  cluster=[]\n",
        "  uncluster=[]\n",
        "  visited={}\n",
        "  for i in d:\n",
        "    visited[i]=-1\n",
        "  \n",
        "  for sp in d:\n",
        "    if(visited[sp]==-1):\n",
        "      visited[sp]=1\n",
        "      count=0\n",
        "\n",
        "      neighbor=[]\n",
        "      for i in range(len(d)):\n",
        "        if d[i]!=sp:\n",
        "          dist=np.sqrt(np.sum(np.square(np.array(d[i]) - np.array(sp))))\n",
        "          if(dist<=eps):\n",
        "            neighbor.append(d[i])\n",
        "            count+=1\n",
        "      if(count<minpts):\n",
        "        uncluster.append(sp)\n",
        "      else:\n",
        "        cluster.append(sp)\n",
        "        for i in neighbor:\n",
        "          if visited[i]==-1:\n",
        "            visited[i]=1\n",
        "            neighbor_=[]\n",
        "            count_=0\n",
        "            for j in range(len(d)):\n",
        "              if d[j]!=i:\n",
        "                dist=np.sqrt(np.sum(np.square(np.array(d[j]) - np.array(i))))\n",
        "                if(dist<=eps):\n",
        "                  neighbor_.append(d[j])\n",
        "                  count_+=1\n",
        "            if(count_>=minpts):\n",
        "              neighbor=neighbor+neighbor_\n",
        "          if((i not in cluster) and (i not in uncluster)):\n",
        "            cluster.append(i)\n",
        "\n",
        "  return cluster,uncluster  \n",
        "          "
      ],
      "execution_count": null,
      "outputs": []
    },
    {
      "cell_type": "code",
      "metadata": {
        "colab": {
          "base_uri": "https://localhost:8080/",
          "height": 536
        },
        "id": "Lc7PtOPL8Ysj",
        "outputId": "6689716b-e13e-426e-8eb6-e9fb2482e6cd"
      },
      "source": [
        "points=[]\n",
        "for i in range(len(data)):\n",
        "  a=data_attr[attribute['age']][i]\n",
        "  b=data_attr[attribute['thalach']][i]\n",
        "  points.append((a,b))\n",
        "  \n",
        "C,UC=DBSCAN(points,8,5)\n",
        "\n",
        "fig = plt.figure(figsize = (15, 10))\n",
        "x=[]\n",
        "y=[]\n",
        "for i in C:\n",
        "  x.append(i[0])\n",
        "  y.append(i[1])\n",
        "\n",
        "plt.scatter(x,y, color=\"blue\",marker=\"o\", s=50)\n",
        "x=[]\n",
        "y=[]\n",
        "for i in UC:\n",
        "  x.append(i[0])\n",
        "  y.append(i[1])\n",
        "plt.scatter(x,y, color=\"red\",marker=\"o\", s=50)\n",
        "plt.show()"
      ],
      "execution_count": null,
      "outputs": [
        {
          "output_type": "display_data",
          "data": {
            "image/png": "[encoded data removed]",
            "text/plain": [
              "<Figure size 1080x720 with 1 Axes>"
            ]
          },
          "metadata": {
            "tags": [],
            "needs_background": "light"
          }
        }
      ]
    },
    {
      "cell_type": "code",
      "metadata": {
        "colab": {
          "base_uri": "https://localhost:8080/"
        },
        "id": "1QghZvEuyJWE",
        "outputId": "dd830cf7-ac4c-4185-f184-b9d8460af6cf"
      },
      "source": [
        "index=[]\n",
        "for i in range(len(data)):\n",
        "  f=0\n",
        "  for j in UC:\n",
        "    if(data[i][attribute['age']]==j[0] and data[i][attribute['thalach']]==j[1]):\n",
        "      f=1\n",
        "  if(f==1):\n",
        "    index.append(i)\n",
        "\n",
        "index"
      ],
      "execution_count": null,
      "outputs": [
        {
          "output_type": "execute_result",
          "data": {
            "text/plain": [
              "[62, 72, 84, 103, 129, 144, 175, 212, 239, 243, 248, 272]"
            ]
          },
          "metadata": {
            "tags": []
          },
          "execution_count": 23
        }
      ]
    },
    {
      "cell_type": "code",
      "metadata": {
        "id": "OD-mv7LDELqf"
      },
      "source": [
        "df.drop(index, inplace = True) \n",
        " "
      ],
      "execution_count": null,
      "outputs": []
    },
    {
      "cell_type": "code",
      "metadata": {
        "colab": {
          "base_uri": "https://localhost:8080/",
          "height": 424
        },
        "id": "WiaUsZisZIHY",
        "outputId": "a956a05f-ca78-4ab0-b21a-07d9ee7c431a"
      },
      "source": [
        "df"
      ],
      "execution_count": null,
      "outputs": [
        {
          "output_type": "execute_result",
          "data": {
            "text/html": [
              "<div>\n",
              "<style scoped>\n",
              "    .dataframe tbody tr th:only-of-type {\n",
              "        vertical-align: middle;\n",
              "    }\n",
              "\n",
              "    .dataframe tbody tr th {\n",
              "        vertical-align: top;\n",
              "    }\n",
              "\n",
              "    .dataframe thead th {\n",
              "        text-align: right;\n",
              "    }\n",
              "</style>\n",
              "<table border=\"1\" class=\"dataframe\">\n",
              "  <thead>\n",
              "    <tr style=\"text-align: right;\">\n",
              "      <th></th>\n",
              "      <th>age</th>\n",
              "      <th>sex</th>\n",
              "      <th>cp</th>\n",
              "      <th>restecg</th>\n",
              "      <th>thalach</th>\n",
              "      <th>exang</th>\n",
              "      <th>oldpeak</th>\n",
              "      <th>slope</th>\n",
              "      <th>ca</th>\n",
              "      <th>thal</th>\n",
              "      <th>presence</th>\n",
              "    </tr>\n",
              "  </thead>\n",
              "  <tbody>\n",
              "    <tr>\n",
              "      <th>0</th>\n",
              "      <td>63</td>\n",
              "      <td>1</td>\n",
              "      <td>3</td>\n",
              "      <td>0</td>\n",
              "      <td>150</td>\n",
              "      <td>0</td>\n",
              "      <td>2.3</td>\n",
              "      <td>0</td>\n",
              "      <td>0</td>\n",
              "      <td>1</td>\n",
              "      <td>1</td>\n",
              "    </tr>\n",
              "    <tr>\n",
              "      <th>1</th>\n",
              "      <td>37</td>\n",
              "      <td>1</td>\n",
              "      <td>2</td>\n",
              "      <td>1</td>\n",
              "      <td>187</td>\n",
              "      <td>0</td>\n",
              "      <td>3.5</td>\n",
              "      <td>0</td>\n",
              "      <td>0</td>\n",
              "      <td>2</td>\n",
              "      <td>1</td>\n",
              "    </tr>\n",
              "    <tr>\n",
              "      <th>2</th>\n",
              "      <td>41</td>\n",
              "      <td>0</td>\n",
              "      <td>1</td>\n",
              "      <td>0</td>\n",
              "      <td>172</td>\n",
              "      <td>0</td>\n",
              "      <td>1.4</td>\n",
              "      <td>2</td>\n",
              "      <td>0</td>\n",
              "      <td>2</td>\n",
              "      <td>1</td>\n",
              "    </tr>\n",
              "    <tr>\n",
              "      <th>3</th>\n",
              "      <td>56</td>\n",
              "      <td>1</td>\n",
              "      <td>1</td>\n",
              "      <td>1</td>\n",
              "      <td>178</td>\n",
              "      <td>0</td>\n",
              "      <td>0.8</td>\n",
              "      <td>2</td>\n",
              "      <td>0</td>\n",
              "      <td>2</td>\n",
              "      <td>1</td>\n",
              "    </tr>\n",
              "    <tr>\n",
              "      <th>4</th>\n",
              "      <td>57</td>\n",
              "      <td>0</td>\n",
              "      <td>0</td>\n",
              "      <td>1</td>\n",
              "      <td>163</td>\n",
              "      <td>1</td>\n",
              "      <td>0.6</td>\n",
              "      <td>2</td>\n",
              "      <td>0</td>\n",
              "      <td>2</td>\n",
              "      <td>1</td>\n",
              "    </tr>\n",
              "    <tr>\n",
              "      <th>...</th>\n",
              "      <td>...</td>\n",
              "      <td>...</td>\n",
              "      <td>...</td>\n",
              "      <td>...</td>\n",
              "      <td>...</td>\n",
              "      <td>...</td>\n",
              "      <td>...</td>\n",
              "      <td>...</td>\n",
              "      <td>...</td>\n",
              "      <td>...</td>\n",
              "      <td>...</td>\n",
              "    </tr>\n",
              "    <tr>\n",
              "      <th>298</th>\n",
              "      <td>57</td>\n",
              "      <td>0</td>\n",
              "      <td>0</td>\n",
              "      <td>1</td>\n",
              "      <td>123</td>\n",
              "      <td>1</td>\n",
              "      <td>0.2</td>\n",
              "      <td>1</td>\n",
              "      <td>0</td>\n",
              "      <td>3</td>\n",
              "      <td>0</td>\n",
              "    </tr>\n",
              "    <tr>\n",
              "      <th>299</th>\n",
              "      <td>45</td>\n",
              "      <td>1</td>\n",
              "      <td>3</td>\n",
              "      <td>1</td>\n",
              "      <td>132</td>\n",
              "      <td>0</td>\n",
              "      <td>1.2</td>\n",
              "      <td>1</td>\n",
              "      <td>0</td>\n",
              "      <td>3</td>\n",
              "      <td>0</td>\n",
              "    </tr>\n",
              "    <tr>\n",
              "      <th>300</th>\n",
              "      <td>68</td>\n",
              "      <td>1</td>\n",
              "      <td>0</td>\n",
              "      <td>1</td>\n",
              "      <td>141</td>\n",
              "      <td>0</td>\n",
              "      <td>3.4</td>\n",
              "      <td>1</td>\n",
              "      <td>2</td>\n",
              "      <td>3</td>\n",
              "      <td>0</td>\n",
              "    </tr>\n",
              "    <tr>\n",
              "      <th>301</th>\n",
              "      <td>57</td>\n",
              "      <td>1</td>\n",
              "      <td>0</td>\n",
              "      <td>1</td>\n",
              "      <td>115</td>\n",
              "      <td>1</td>\n",
              "      <td>1.2</td>\n",
              "      <td>1</td>\n",
              "      <td>1</td>\n",
              "      <td>3</td>\n",
              "      <td>0</td>\n",
              "    </tr>\n",
              "    <tr>\n",
              "      <th>302</th>\n",
              "      <td>57</td>\n",
              "      <td>0</td>\n",
              "      <td>1</td>\n",
              "      <td>0</td>\n",
              "      <td>174</td>\n",
              "      <td>0</td>\n",
              "      <td>0.0</td>\n",
              "      <td>1</td>\n",
              "      <td>1</td>\n",
              "      <td>2</td>\n",
              "      <td>0</td>\n",
              "    </tr>\n",
              "  </tbody>\n",
              "</table>\n",
              "<p>291 rows × 11 columns</p>\n",
              "</div>"
            ],
            "text/plain": [
              "     age  sex  cp  restecg  thalach  exang  oldpeak  slope  ca  thal  presence\n",
              "0     63    1   3        0      150      0      2.3      0   0     1         1\n",
              "1     37    1   2        1      187      0      3.5      0   0     2         1\n",
              "2     41    0   1        0      172      0      1.4      2   0     2         1\n",
              "3     56    1   1        1      178      0      0.8      2   0     2         1\n",
              "4     57    0   0        1      163      1      0.6      2   0     2         1\n",
              "..   ...  ...  ..      ...      ...    ...      ...    ...  ..   ...       ...\n",
              "298   57    0   0        1      123      1      0.2      1   0     3         0\n",
              "299   45    1   3        1      132      0      1.2      1   0     3         0\n",
              "300   68    1   0        1      141      0      3.4      1   2     3         0\n",
              "301   57    1   0        1      115      1      1.2      1   1     3         0\n",
              "302   57    0   1        0      174      0      0.0      1   1     2         0\n",
              "\n",
              "[291 rows x 11 columns]"
            ]
          },
          "metadata": {
            "tags": []
          },
          "execution_count": 25
        }
      ]
    },
    {
      "cell_type": "code",
      "metadata": {
        "id": "QKnDuj3R_-Fo"
      },
      "source": [
        "data=np.array(df)\n",
        "d1=data[:,:-1]\n",
        "d2=data[:,-1]"
      ],
      "execution_count": null,
      "outputs": []
    },
    {
      "cell_type": "code",
      "metadata": {
        "colab": {
          "base_uri": "https://localhost:8080/",
          "height": 549
        },
        "id": "TmYbsvbS_0oK",
        "outputId": "0b0f4e05-8a5c-42e9-b0f9-d1b78c5bc55c"
      },
      "source": [
        "x=[]\n",
        "y=[]\n",
        "for i in range(len(d1)):\n",
        "  x.append(data_attr[attribute['age']][i])\n",
        "  y.append(data_attr[attribute['thalach']][i])\n",
        "fig = plt.figure(figsize = (15, 10))\n",
        "plt.title(\"Before applying SMOTEENN\")\n",
        "plt.scatter(x,y, color=\"blue\",marker=\"o\", s=50)\n",
        "plt.show()"
      ],
      "execution_count": null,
      "outputs": [
        {
          "output_type": "display_data",
          "data": {
            "image/png": "[encoded data removed]",
            "text/plain": [
              "<Figure size 1080x720 with 1 Axes>"
            ]
          },
          "metadata": {
            "tags": [],
            "needs_background": "light"
          }
        }
      ]
    },
    {
      "cell_type": "code",
      "metadata": {
        "id": "Ud-QRoh2Vqwf",
        "colab": {
          "base_uri": "https://localhost:8080/"
        },
        "outputId": "50dbe1f6-27c3-4b3e-8a84-27b7fd3c7851"
      },
      "source": [
        "data=np.array(df)\n",
        "d1=data[:,:-1]\n",
        "d2=data[:,-1]\n",
        "\n",
        "# oversampling the train dataset using SMOTE + ENN\n",
        "smenn = SMOTEENN()\n",
        "d1, d2 = smenn.fit_resample(d1, d2)\n",
        "\n",
        "#split dataset to train and test\n",
        "test_size = 0.30\n",
        "X_train, X_test, y_train, y_test = train_test_split(d1, d2, test_size=test_size, shuffle=True)\n",
        "\n",
        "# fit model no training data\n",
        "model =XGBClassifier(\n",
        " learning_rate =0.002447146072603612,\n",
        " n_estimators=5000,\n",
        " max_depth=1,\n",
        " min_child_weight=1,\n",
        " gamma=0.0024674117613464074,\n",
        " subsample=1.0,\n",
        " colsample_bytree=1e-06,\n",
        " objective= 'binary:logistic',\n",
        "  reg_alpha=0.015474296722426327,\n",
        "  reg_lambda=1\n",
        " )\n",
        "model.fit(X_train, y_train)\n",
        "y_pred = model.predict(X_test)\n",
        "predictions = [round(value) for value in y_pred]\n",
        "accuracy = accuracy_score(y_test, predictions)\n",
        "print(confusion_matrix(y_test, predictions))\n",
        "print(\"Accuracy: %.2f%%\" % (accuracy * 100.0))\n",
        "print(\"F1 Score: {}\".format(f1_score(y_test,predictions)))\n",
        "print(\"Recall score: {}\".format(recall_score(y_test,predictions)))\n",
        "print(\"Precision score: {}\".format(precision_score(y_test,predictions)))"
      ],
      "execution_count": null,
      "outputs": [
        {
          "output_type": "stream",
          "text": [
            "/usr/local/lib/python3.7/dist-packages/sklearn/utils/deprecation.py:87: FutureWarning: Function safe_indexing is deprecated; safe_indexing is deprecated in version 0.22 and will be removed in version 0.24.\n",
            "  warnings.warn(msg, category=FutureWarning)\n",
            "/usr/local/lib/python3.7/dist-packages/sklearn/utils/deprecation.py:87: FutureWarning: Function safe_indexing is deprecated; safe_indexing is deprecated in version 0.22 and will be removed in version 0.24.\n",
            "  warnings.warn(msg, category=FutureWarning)\n",
            "/usr/local/lib/python3.7/dist-packages/sklearn/utils/deprecation.py:87: FutureWarning: Function safe_indexing is deprecated; safe_indexing is deprecated in version 0.22 and will be removed in version 0.24.\n",
            "  warnings.warn(msg, category=FutureWarning)\n",
            "/usr/local/lib/python3.7/dist-packages/sklearn/utils/deprecation.py:87: FutureWarning: Function safe_indexing is deprecated; safe_indexing is deprecated in version 0.22 and will be removed in version 0.24.\n",
            "  warnings.warn(msg, category=FutureWarning)\n"
          ],
          "name": "stderr"
        },
        {
          "output_type": "stream",
          "text": [
            "[[21  0]\n",
            " [ 0 19]]\n",
            "Accuracy: 100.00%\n",
            "F1 Score: 1.0\n",
            "Recall score: 1.0\n",
            "Precision score: 1.0\n"
          ],
          "name": "stdout"
        }
      ]
    },
    {
      "cell_type": "code",
      "metadata": {
        "colab": {
          "base_uri": "https://localhost:8080/",
          "height": 549
        },
        "id": "I6WAsJfuAYTQ",
        "outputId": "95ce3c96-af71-438e-d785-d92b100e7314"
      },
      "source": [
        "fig = plt.figure(figsize = (15, 10))\n",
        "x=[]\n",
        "y=[]\n",
        "for i in range(len(d1)):\n",
        "  x.append(data_attr[attribute['age']][i])\n",
        "  y.append(data_attr[attribute['thalach']][i])\n",
        "\n",
        "plt.title(\"After applying SMOTEENN\")\n",
        "plt.scatter(x,y, color=\"blue\",marker=\"o\", s=50)\n",
        "plt.show()"
      ],
      "execution_count": null,
      "outputs": [
        {
          "output_type": "display_data",
          "data": {
            "image/png": "[encoded data removed]",
            "text/plain": [
              "<Figure size 1080x720 with 1 Axes>"
            ]
          },
          "metadata": {
            "tags": [],
            "needs_background": "light"
          }
        }
      ]
    },
    {
      "cell_type": "code",
      "metadata": {
        "colab": {
          "base_uri": "https://localhost:8080/"
        },
        "id": "Zy8kw9T4xvGt",
        "outputId": "a8d8db98-b5d0-41a9-9628-92e116d53ee9"
      },
      "source": [
        "!pip3 install scikit-optimize"
      ],
      "execution_count": null,
      "outputs": [
        {
          "output_type": "stream",
          "text": [
            "Collecting scikit-optimize\n",
            "\u001b[?25l  Downloading https://files.pythonhosted.org/packages/8b/03/be33e89f55866065a02e515c5b319304a801a9f1027a9b311a9b1d1f8dc7/scikit_optimize-0.8.1-py2.py3-none-any.whl (101kB)\n",
            "\r\u001b[K     |███▎                            | 10kB 21.2MB/s eta 0:00:01\r\u001b[K     |██████▌                         | 20kB 13.9MB/s eta 0:00:01\r\u001b[K     |█████████▊                      | 30kB 12.3MB/s eta 0:00:01\r\u001b[K     |█████████████                   | 40kB 11.7MB/s eta 0:00:01\r\u001b[K     |████████████████▏               | 51kB 7.8MB/s eta 0:00:01\r\u001b[K     |███████████████████▍            | 61kB 7.2MB/s eta 0:00:01\r\u001b[K     |██████████████████████▊         | 71kB 8.1MB/s eta 0:00:01\r\u001b[K     |██████████████████████████      | 81kB 8.7MB/s eta 0:00:01\r\u001b[K     |█████████████████████████████▏  | 92kB 9.4MB/s eta 0:00:01\r\u001b[K     |████████████████████████████████| 102kB 6.0MB/s \n",
            "\u001b[?25hRequirement already satisfied: numpy>=1.13.3 in /usr/local/lib/python3.7/dist-packages (from scikit-optimize) (1.19.5)\n",
            "Collecting pyaml>=16.9\n",
            "  Downloading https://files.pythonhosted.org/packages/15/c4/1310a054d33abc318426a956e7d6df0df76a6ddfa9c66f6310274fb75d42/pyaml-20.4.0-py2.py3-none-any.whl\n",
            "Requirement already satisfied: scikit-learn>=0.20.0 in /usr/local/lib/python3.7/dist-packages (from scikit-optimize) (0.22.2.post1)\n",
            "Requirement already satisfied: scipy>=0.19.1 in /usr/local/lib/python3.7/dist-packages (from scikit-optimize) (1.4.1)\n",
            "Requirement already satisfied: joblib>=0.11 in /usr/local/lib/python3.7/dist-packages (from scikit-optimize) (1.0.1)\n",
            "Requirement already satisfied: PyYAML in /usr/local/lib/python3.7/dist-packages (from pyaml>=16.9->scikit-optimize) (3.13)\n",
            "Installing collected packages: pyaml, scikit-optimize\n",
            "Successfully installed pyaml-20.4.0 scikit-optimize-0.8.1\n"
          ],
          "name": "stdout"
        }
      ]
    },
    {
      "cell_type": "markdown",
      "metadata": {
        "id": "Vw_HE_Usbg2T"
      },
      "source": [
        "**Parameter tuning using GA**"
      ]
    },
    {
      "cell_type": "code",
      "metadata": {
        "colab": {
          "base_uri": "https://localhost:8080/"
        },
        "id": "jUXv3kA5Mnzv",
        "outputId": "79669482-78c4-4a7a-c254-181b587a1683"
      },
      "source": [
        "# manually tune svm model hyperparameters using skopt on the ionosphere dataset\n",
        "from numpy import mean\n",
        "from pandas import read_csv\n",
        "from sklearn.model_selection import cross_val_score\n",
        "from sklearn.model_selection import RepeatedStratifiedKFold\n",
        "from xgboost import XGBClassifier\n",
        "from skopt.space import Integer\n",
        "from skopt.space import Real\n",
        "from skopt.space import Categorical\n",
        "from skopt.utils import use_named_args\n",
        "from skopt import gp_minimize\n",
        "\n",
        "# define the space of hyperparameters to search\n",
        "search_space = list()\n",
        "search_space.append(Real(1e-6, 1.0, 'log-uniform', name='learning_rate'))\n",
        "search_space.append(Integer(1, 5000, name='n_estimators'))\n",
        "search_space.append(Integer(1, 100, name='max_depth'))\n",
        "search_space.append(Integer(1, 100, name='min_child_weight'))\n",
        "search_space.append(Real(1e-6, 100.0, 'log-uniform', name='gamma'))\n",
        "search_space.append(Real(1e-6, 1.0, 'log-uniform', name='subsample'))\n",
        "search_space.append(Real(1e-6, 1.0, 'log-uniform', name='colsample_bytree'))\n",
        "search_space.append(Categorical(['binary:logistic'], name='objective'))\n",
        "search_space.append(Categorical(['auc','rmse'], name='eval_metric'))\n",
        "search_space.append(Real(1e-6, 1.0, 'log-uniform', name='reg_alpha'))\n",
        "search_space.append(Real(1e-6, 1.0, 'log-uniform', name='reg_lambda'))\n",
        "\n",
        "\n",
        "\n",
        "# define the function used to evaluate a given configuration\n",
        "@use_named_args(search_space)\n",
        "def evaluate_model(**params):\n",
        "\t# configure the model with specific hyperparameters\n",
        "\tmodel = XGBClassifier()\n",
        "\tmodel.set_params(**params)\n",
        "\t# define test harness\n",
        "\tcv = RepeatedStratifiedKFold(n_splits=10, n_repeats=3, random_state=1)\n",
        "\t# calculate 5-fold cross validation\n",
        "\tresult = cross_val_score(model, X, y, cv=cv, n_jobs=-1, scoring='accuracy')\n",
        "\t# calculate the mean of the scores\n",
        "\testimate = mean(result)\n",
        "\t# convert from a maximizing score to a minimizing score\n",
        "\treturn 1.0 - estimate\n",
        "\n",
        "\n",
        "print(X.shape, y.shape)\n",
        "# perform optimization\n",
        "result = gp_minimize(evaluate_model, search_space)\n",
        "# summarizing finding:\n",
        "print('Best Accuracy: %.3f' % (1.0 - result.fun))\n",
        "print('Best Parameters: %s' % (result.x))"
      ],
      "execution_count": null,
      "outputs": [
        {
          "output_type": "stream",
          "text": [
            "(184, 10) (184,)\n",
            "Best Accuracy: 0.864\n",
            "Best Parameters: [0.002447146072603612, 5000, 1, 1, 0.0024674117613464074, 1.0, 1e-06, 'binary:logistic', 'auc', 0.015474296722426327, 1.0]\n"
          ],
          "name": "stdout"
        }
      ]
    },
    {
      "cell_type": "markdown",
      "metadata": {
        "id": "qIwzn5hRP6EM"
      },
      "source": [
        "**1.Naive Bayes**"
      ]
    },
    {
      "cell_type": "code",
      "metadata": {
        "colab": {
          "base_uri": "https://localhost:8080/"
        },
        "id": "4Lo8va7s_fQa",
        "outputId": "8696798f-e9db-4eed-d52a-3982cca6d9f5"
      },
      "source": [
        "from sklearn.naive_bayes import GaussianNB\n",
        "gnb = GaussianNB()\n",
        "\n",
        "data=np.array(df)\n",
        "d1=data[:,:-1]\n",
        "d2=data[:,-1]\n",
        "\n",
        "#split dataset to train and test\n",
        "test_size = 0.30\n",
        "X_train, X_test, y_train, y_test = train_test_split(d1, d2, test_size=test_size, shuffle=True)\n",
        "\n",
        "gnb.fit(X_train, y_train)\n",
        "y_pred = gnb.predict(X_test)\n",
        "predictions = [round(value) for value in y_pred]\n",
        "accuracy = accuracy_score(y_test, predictions)\n",
        "M=confusion_matrix(y_test, predictions)\n",
        "print(confusion_matrix(y_test, predictions))\n",
        "print(\"Accuracy: %.2f%%\" % (accuracy * 100.0))\n",
        "print(\"F1 Score: {}\".format(f1_score(y_test,predictions)))\n",
        "print(\"Recall score: {}\".format(recall_score(y_test,predictions)))\n",
        "print(\"Precision score: {}\".format(precision_score(y_test,predictions)))\n",
        "print(\"MCC:\",matthews_corrcoef(y_test,predictions))\n",
        "print(\"TPR(sensitivity):\",M[0][0]/(M[0][0]+M[1][0]))\n",
        "print(\"TNR(specificity):\",M[1][1]/(M[1][1]+M[0][1]))\n",
        "print(\"FPR:\",M[1][0]/(M[0][0]+M[1][0]))\n",
        "print(\"FNR:\",M[0][1]/(M[1][1]+M[0][1]))"
      ],
      "execution_count": null,
      "outputs": [
        {
          "output_type": "stream",
          "text": [
            "[[30 12]\n",
            " [11 35]]\n",
            "Accuracy: 73.86%\n",
            "F1 Score: 0.7526881720430109\n",
            "Recall score: 0.7608695652173914\n",
            "Precision score: 0.7446808510638298\n",
            "MCC: 0.475771324464925\n",
            "TPR(sensitivity): 0.7317073170731707\n",
            "TNR(specificity): 0.7446808510638298\n",
            "FPR: 0.2682926829268293\n",
            "FNR: 0.2553191489361702\n"
          ],
          "name": "stdout"
        }
      ]
    },
    {
      "cell_type": "markdown",
      "metadata": {
        "id": "uNtLwLFyQIdb"
      },
      "source": [
        "**2.Linear Regression**"
      ]
    },
    {
      "cell_type": "code",
      "metadata": {
        "colab": {
          "base_uri": "https://localhost:8080/"
        },
        "id": "FeD2hYkQNMsd",
        "outputId": "b27448b4-0bb7-4692-c5dd-6f00036db27b"
      },
      "source": [
        "from sklearn import linear_model\n",
        "reg = linear_model.LinearRegression()\n",
        "\n",
        "data=np.array(df)\n",
        "d1=data[:,:-1]\n",
        "d2=data[:,-1]\n",
        "\n",
        "#split dataset to train and test\n",
        "test_size = 0.30\n",
        "X_train, X_test, y_train, y_test = train_test_split(d1, d2, test_size=test_size, shuffle=True)\n",
        "\n",
        "reg.fit(X_train, y_train)\n",
        "y_pred = gnb.predict(X_test)\n",
        "predictions = [round(value) for value in y_pred]\n",
        "accuracy = accuracy_score(y_test, predictions)\n",
        "M=confusion_matrix(y_test, predictions)\n",
        "print(confusion_matrix(y_test, predictions))\n",
        "print(\"Accuracy: %.2f%%\" % (accuracy * 100.0))\n",
        "print(\"F1 Score: {}\".format(f1_score(y_test,predictions)))\n",
        "print(\"Recall score: {}\".format(recall_score(y_test,predictions)))\n",
        "print(\"Precision score: {}\".format(precision_score(y_test,predictions)))\n",
        "print(\"MCC:\",matthews_corrcoef(y_test,predictions))\n",
        "print(\"TPR(sensitivity):\",M[0][0]/(M[0][0]+M[1][0]))\n",
        "print(\"TNR(specificity):\",M[1][1]/(M[1][1]+M[0][1]))\n",
        "print(\"FPR:\",M[1][0]/(M[0][0]+M[1][0]))\n",
        "print(\"FNR:\",M[0][1]/(M[1][1]+M[0][1]))"
      ],
      "execution_count": null,
      "outputs": [
        {
          "output_type": "stream",
          "text": [
            "[[27  9]\n",
            " [ 5 47]]\n",
            "Accuracy: 84.09%\n",
            "F1 Score: 0.8703703703703703\n",
            "Recall score: 0.9038461538461539\n",
            "Precision score: 0.8392857142857143\n",
            "MCC: 0.6682815834102229\n",
            "TPR(sensitivity): 0.84375\n",
            "TNR(specificity): 0.8392857142857143\n",
            "FPR: 0.15625\n",
            "FNR: 0.16071428571428573\n"
          ],
          "name": "stdout"
        }
      ]
    },
    {
      "cell_type": "markdown",
      "metadata": {
        "id": "cmOxQolzQMzw"
      },
      "source": [
        "**3.Multi Layer perceptron (MLP)**"
      ]
    },
    {
      "cell_type": "code",
      "metadata": {
        "colab": {
          "base_uri": "https://localhost:8080/"
        },
        "id": "tTZfdermNvdF",
        "outputId": "c2d4246d-25dc-4997-e970-854dc159dbeb"
      },
      "source": [
        "from sklearn.neural_network import MLPClassifier\n",
        "mlp = MLPClassifier(random_state=1, max_iter=300)\n",
        "\n",
        "data=np.array(df)\n",
        "d1=data[:,:-1]\n",
        "d2=data[:,-1]\n",
        "\n",
        "#split dataset to train and test\n",
        "test_size = 0.30\n",
        "X_train, X_test, y_train, y_test = train_test_split(d1, d2, test_size=test_size, shuffle=True)\n",
        "\n",
        "mlp.fit(X_train, y_train)\n",
        "y_pred = mlp.predict(X_test)\n",
        "predictions = [round(value) for value in y_pred]\n",
        "accuracy = accuracy_score(y_test, predictions)\n",
        "print(confusion_matrix(y_test, predictions))\n",
        "M=confusion_matrix(y_test, predictions)\n",
        "print(\"Accuracy: %.2f%%\" % (accuracy * 100.0))\n",
        "print(\"F1 Score: {}\".format(f1_score(y_test,predictions)))\n",
        "print(\"Recall score: {}\".format(recall_score(y_test,predictions)))\n",
        "print(\"Precision score: {}\".format(precision_score(y_test,predictions)))\n",
        "print(\"MCC:\",matthews_corrcoef(y_test,predictions))\n",
        "print(\"TPR(sensitivity):\",M[0][0]/(M[0][0]+M[1][0]))\n",
        "print(\"TNR(specificity):\",M[1][1]/(M[1][1]+M[0][1]))\n",
        "print(\"FPR:\",M[1][0]/(M[0][0]+M[1][0]))\n",
        "print(\"FNR:\",M[0][1]/(M[1][1]+M[0][1]))\n"
      ],
      "execution_count": null,
      "outputs": [
        {
          "output_type": "stream",
          "text": [
            "[[42  0]\n",
            " [35 11]]\n",
            "Accuracy: 60.23%\n",
            "F1 Score: 0.3859649122807018\n",
            "Recall score: 0.2391304347826087\n",
            "Precision score: 1.0\n",
            "MCC: 0.3611575592573076\n",
            "TPR(sensitivity): 0.5454545454545454\n",
            "TNR(specificity): 1.0\n",
            "FPR: 0.45454545454545453\n",
            "FNR: 0.0\n"
          ],
          "name": "stdout"
        }
      ]
    },
    {
      "cell_type": "markdown",
      "metadata": {
        "id": "kRX4HT66Qahf"
      },
      "source": [
        "**4.Support Vector Machine**"
      ]
    },
    {
      "cell_type": "code",
      "metadata": {
        "colab": {
          "base_uri": "https://localhost:8080/"
        },
        "id": "mHRVviqqNtVG",
        "outputId": "d495e37a-3c06-4996-85a3-a9296442a9e5"
      },
      "source": [
        "from sklearn.svm import SVC  \n",
        "svm = SVC(kernel='linear') \n",
        "\n",
        "data=np.array(df)\n",
        "d1=data[:,:-1]\n",
        "d2=data[:,-1]\n",
        "\n",
        "#split dataset to train and test\n",
        "test_size = 0.30\n",
        "X_train, X_test, y_train, y_test = train_test_split(d1, d2, test_size=test_size, shuffle=True)\n",
        "\n",
        "svm.fit(X_train, y_train)\n",
        "y_pred = svm.predict(X_test)\n",
        "predictions = [round(value) for value in y_pred]\n",
        "accuracy = accuracy_score(y_test, predictions)\n",
        "M=confusion_matrix(y_test, predictions)\n",
        "print(confusion_matrix(y_test, predictions))\n",
        "print(\"Accuracy: %.2f%%\" % (accuracy * 100.0))\n",
        "print(\"F1 Score: {}\".format(f1_score(y_test,predictions)))\n",
        "print(\"Recall score: {}\".format(recall_score(y_test,predictions)))\n",
        "print(\"Precision score: {}\".format(precision_score(y_test,predictions)))\n",
        "print(\"MCC:\",matthews_corrcoef(y_test,predictions))\n",
        "print(\"TPR(sensitivity):\",M[0][0]/(M[0][0]+M[1][0]))\n",
        "print(\"TNR(specificity):\",M[1][1]/(M[1][1]+M[0][1]))\n",
        "print(\"FPR:\",M[1][0]/(M[0][0]+M[1][0]))\n",
        "print(\"FNR:\",M[0][1]/(M[1][1]+M[0][1]))"
      ],
      "execution_count": null,
      "outputs": [
        {
          "output_type": "stream",
          "text": [
            "[[30 11]\n",
            " [ 2 45]]\n",
            "Accuracy: 85.23%\n",
            "F1 Score: 0.8737864077669905\n",
            "Recall score: 0.9574468085106383\n",
            "Precision score: 0.8035714285714286\n",
            "MCC: 0.714641471195373\n",
            "TPR(sensitivity): 0.9375\n",
            "TNR(specificity): 0.8035714285714286\n",
            "FPR: 0.0625\n",
            "FNR: 0.19642857142857142\n"
          ],
          "name": "stdout"
        }
      ]
    },
    {
      "cell_type": "markdown",
      "metadata": {
        "id": "AhLR3uHcQl7I"
      },
      "source": [
        "**5.Decision Tree**"
      ]
    },
    {
      "cell_type": "code",
      "metadata": {
        "colab": {
          "base_uri": "https://localhost:8080/"
        },
        "id": "fvjfInM9POpa",
        "outputId": "bcfe62bd-73db-4a13-de3e-4b687f23b9ab"
      },
      "source": [
        "from sklearn.tree import DecisionTreeClassifier\n",
        "dt = DecisionTreeClassifier(random_state=0)\n",
        "\n",
        "data=np.array(df)\n",
        "d1=data[:,:-1]\n",
        "d2=data[:,-1]\n",
        "\n",
        "#split dataset to train and test\n",
        "test_size = 0.30\n",
        "X_train, X_test, y_train, y_test = train_test_split(d1, d2, test_size=test_size, shuffle=True)\n",
        "\n",
        "dt.fit(X_train, y_train)\n",
        "y_pred = dt.predict(X_test)\n",
        "predictions = [round(value) for value in y_pred]\n",
        "accuracy = accuracy_score(y_test, predictions)\n",
        "M=confusion_matrix(y_test, predictions)\n",
        "print(confusion_matrix(y_test, predictions))\n",
        "print(\"Accuracy: %.2f%%\" % (accuracy * 100.0))\n",
        "print(\"F1 Score: {}\".format(f1_score(y_test,predictions)))\n",
        "print(\"Recall score: {}\".format(recall_score(y_test,predictions)))\n",
        "print(\"Precision score: {}\".format(precision_score(y_test,predictions)))\n",
        "print(\"MCC:\",matthews_corrcoef(y_test,predictions))\n",
        "print(\"TPR(sensitivity):\",M[0][0]/(M[0][0]+M[1][0]))\n",
        "print(\"TNR(specificity):\",M[1][1]/(M[1][1]+M[0][1]))\n",
        "print(\"FPR:\",M[1][0]/(M[0][0]+M[1][0]))\n",
        "print(\"FNR:\",M[0][1]/(M[1][1]+M[0][1]))"
      ],
      "execution_count": null,
      "outputs": [
        {
          "output_type": "stream",
          "text": [
            "[[33 10]\n",
            " [12 33]]\n",
            "Accuracy: 75.00%\n",
            "F1 Score: 0.7499999999999999\n",
            "Recall score: 0.7333333333333333\n",
            "Precision score: 0.7674418604651163\n",
            "MCC: 0.5007751937984496\n",
            "TPR(sensitivity): 0.7333333333333333\n",
            "TNR(specificity): 0.7674418604651163\n",
            "FPR: 0.26666666666666666\n",
            "FNR: 0.23255813953488372\n"
          ],
          "name": "stdout"
        }
      ]
    },
    {
      "cell_type": "markdown",
      "metadata": {
        "id": "_MH8fJDwQpcJ"
      },
      "source": [
        "**6.Random Forest**"
      ]
    },
    {
      "cell_type": "code",
      "metadata": {
        "colab": {
          "base_uri": "https://localhost:8080/"
        },
        "id": "hFmceScZPk1F",
        "outputId": "e3c76d76-4946-4c00-8265-2f5b775b6929"
      },
      "source": [
        "from sklearn.ensemble import RandomForestClassifier\n",
        "rf = RandomForestClassifier(max_depth=2, random_state=0)\n",
        "\n",
        "data=np.array(df)\n",
        "d1=data[:,:-1]\n",
        "d2=data[:,-1]\n",
        "\n",
        "#split dataset to train and test\n",
        "test_size = 0.30\n",
        "X_train, X_test, y_train, y_test = train_test_split(d1, d2, test_size=test_size, shuffle=True)\n",
        "\n",
        "rf.fit(X_train, y_train)\n",
        "y_pred = rf.predict(X_test)\n",
        "predictions = [round(value) for value in y_pred]\n",
        "accuracy = accuracy_score(y_test, predictions)\n",
        "M=confusion_matrix(y_test, predictions)\n",
        "print(confusion_matrix(y_test, predictions))\n",
        "print(\"Accuracy: %.2f%%\" % (accuracy * 100.0))\n",
        "print(\"F1 Score: {}\".format(f1_score(y_test,predictions)))\n",
        "print(\"Recall score: {}\".format(recall_score(y_test,predictions)))\n",
        "print(\"Precision score: {}\".format(precision_score(y_test,predictions)))\n",
        "print(\"MCC:\",matthews_corrcoef(y_test,predictions))\n",
        "print(\"TPR(sensitivity):\",M[0][0]/(M[0][0]+M[1][0]))\n",
        "print(\"TNR(specificity):\",M[1][1]/(M[1][1]+M[0][1]))\n",
        "print(\"FPR:\",M[1][0]/(M[0][0]+M[1][0]))\n",
        "print(\"FNR:\",M[0][1]/(M[1][1]+M[0][1]))"
      ],
      "execution_count": null,
      "outputs": [
        {
          "output_type": "stream",
          "text": [
            "[[25 11]\n",
            " [ 6 46]]\n",
            "Accuracy: 80.68%\n",
            "F1 Score: 0.8440366972477065\n",
            "Recall score: 0.8846153846153846\n",
            "Precision score: 0.8070175438596491\n",
            "MCC: 0.5960162288466547\n",
            "TPR(sensitivity): 0.8064516129032258\n",
            "TNR(specificity): 0.8070175438596491\n",
            "FPR: 0.1935483870967742\n",
            "FNR: 0.19298245614035087\n"
          ],
          "name": "stdout"
        }
      ]
    },
    {
      "cell_type": "markdown",
      "metadata": {
        "id": "7YHiIBYni6qy"
      },
      "source": [
        "**7.Logistic Regression**"
      ]
    },
    {
      "cell_type": "code",
      "metadata": {
        "colab": {
          "base_uri": "https://localhost:8080/"
        },
        "id": "AABxZetVfxW4",
        "outputId": "2c9ac4f4-6509-44dd-b448-fdd84cc9a3be"
      },
      "source": [
        "from sklearn.linear_model import LogisticRegression\n",
        "Lr = LogisticRegression(random_state=0)\n",
        "\n",
        "data=np.array(df)\n",
        "d1=data[:,:-1]\n",
        "d2=data[:,-1]\n",
        "\n",
        "#split dataset to train and test\n",
        "test_size = 0.30\n",
        "X_train, X_test, y_train, y_test = train_test_split(d1, d2, test_size=test_size, shuffle=True)\n",
        "\n",
        "Lr.fit(X_train, y_train)\n",
        "y_pred =Lr.predict(X_test)\n",
        "predictions = [round(value) for value in y_pred]\n",
        "accuracy = accuracy_score(y_test, predictions)\n",
        "M=confusion_matrix(y_test, predictions)\n",
        "print(confusion_matrix(y_test, predictions))\n",
        "print(\"Accuracy: %.2f%%\" % (accuracy * 100.0))\n",
        "print(\"F1 Score: {}\".format(f1_score(y_test,predictions)))\n",
        "print(\"Recall score: {}\".format(recall_score(y_test,predictions)))\n",
        "print(\"Precision score: {}\".format(precision_score(y_test,predictions)))\n",
        "print(\"MCC:\",matthews_corrcoef(y_test,predictions))\n",
        "print(\"TPR(sensitivity):\",M[0][0]/(M[0][0]+M[1][0]))\n",
        "print(\"TNR(specificity):\",M[1][1]/(M[1][1]+M[0][1]))\n",
        "print(\"FPR:\",M[1][0]/(M[0][0]+M[1][0]))\n",
        "print(\"FNR:\",M[0][1]/(M[1][1]+M[0][1]))"
      ],
      "execution_count": null,
      "outputs": [
        {
          "output_type": "stream",
          "text": [
            "[[25  8]\n",
            " [ 4 51]]\n",
            "Accuracy: 86.36%\n",
            "F1 Score: 0.8947368421052632\n",
            "Recall score: 0.9272727272727272\n",
            "Precision score: 0.864406779661017\n",
            "MCC: 0.7053550973548743\n",
            "TPR(sensitivity): 0.8620689655172413\n",
            "TNR(specificity): 0.864406779661017\n",
            "FPR: 0.13793103448275862\n",
            "FNR: 0.13559322033898305\n"
          ],
          "name": "stdout"
        },
        {
          "output_type": "stream",
          "text": [
            "/usr/local/lib/python3.7/dist-packages/sklearn/linear_model/_logistic.py:940: ConvergenceWarning: lbfgs failed to converge (status=1):\n",
            "STOP: TOTAL NO. of ITERATIONS REACHED LIMIT.\n",
            "\n",
            "Increase the number of iterations (max_iter) or scale the data as shown in:\n",
            "    https://scikit-learn.org/stable/modules/preprocessing.html\n",
            "Please also refer to the documentation for alternative solver options:\n",
            "    https://scikit-learn.org/stable/modules/linear_model.html#logistic-regression\n",
            "  extra_warning_msg=_LOGISTIC_SOLVER_CONVERGENCE_MSG)\n"
          ],
          "name": "stderr"
        }
      ]
    },
    {
      "cell_type": "markdown",
      "metadata": {
        "id": "7dY5uGnYjDYy"
      },
      "source": [
        "**8.K Nearest Neighbors**"
      ]
    },
    {
      "cell_type": "code",
      "metadata": {
        "colab": {
          "base_uri": "https://localhost:8080/"
        },
        "id": "_WOipC6dgZBt",
        "outputId": "560080b0-73b1-4ea5-ea60-300070204303"
      },
      "source": [
        "from sklearn.neighbors import KNeighborsClassifier\n",
        "neigh = KNeighborsClassifier(n_neighbors=3)\n",
        "\n",
        "data=np.array(df)\n",
        "d1=data[:,:-1]\n",
        "d2=data[:,-1]\n",
        "\n",
        "#split dataset to train and test\n",
        "test_size = 0.30\n",
        "X_train, X_test, y_train, y_test = train_test_split(d1, d2, test_size=test_size, shuffle=True)\n",
        "\n",
        "neigh.fit(X_train, y_train)\n",
        "y_pred =neigh.predict(X_test)\n",
        "predictions = [round(value) for value in y_pred]\n",
        "accuracy = accuracy_score(y_test, predictions)\n",
        "M=confusion_matrix(y_test, predictions)\n",
        "print(confusion_matrix(y_test, predictions))\n",
        "print(\"Accuracy: %.2f%%\" % (accuracy * 100.0))\n",
        "print(\"F1 Score: {}\".format(f1_score(y_test,predictions)))\n",
        "print(\"Recall score: {}\".format(recall_score(y_test,predictions)))\n",
        "print(\"Precision score: {}\".format(precision_score(y_test,predictions)))\n",
        "print(\"MCC:\",matthews_corrcoef(y_test,predictions))\n",
        "print(\"TPR(sensitivity):\",M[0][0]/(M[0][0]+M[1][0]))\n",
        "print(\"TNR(specificity):\",M[1][1]/(M[1][1]+M[0][1]))\n",
        "print(\"FPR:\",M[1][0]/(M[0][0]+M[1][0]))\n",
        "print(\"FNR:\",M[0][1]/(M[1][1]+M[0][1]))"
      ],
      "execution_count": null,
      "outputs": [
        {
          "output_type": "stream",
          "text": [
            "[[15 26]\n",
            " [11 36]]\n",
            "Accuracy: 57.95%\n",
            "F1 Score: 0.6605504587155964\n",
            "Recall score: 0.7659574468085106\n",
            "Precision score: 0.5806451612903226\n",
            "MCC: 0.14411538310044347\n",
            "TPR(sensitivity): 0.5769230769230769\n",
            "TNR(specificity): 0.5806451612903226\n",
            "FPR: 0.4230769230769231\n",
            "FNR: 0.41935483870967744\n"
          ],
          "name": "stdout"
        }
      ]
    },
    {
      "cell_type": "markdown",
      "metadata": {
        "id": "f_Xh4WLcjM7q"
      },
      "source": [
        "**9.K means cluster**"
      ]
    },
    {
      "cell_type": "code",
      "metadata": {
        "colab": {
          "base_uri": "https://localhost:8080/"
        },
        "id": "fUW0uAa6gztr",
        "outputId": "fdadf127-f498-4d35-8782-09ee3b35b0af"
      },
      "source": [
        "from sklearn.cluster import KMeans\n",
        "\n",
        "kmeans = KMeans(n_clusters=2, random_state=0)\n",
        "\n",
        "data=np.array(df)\n",
        "d1=data[:,:-1]\n",
        "d2=data[:,-1]\n",
        "\n",
        "#split dataset to train and test\n",
        "test_size = 0.30\n",
        "X_train, X_test, y_train, y_test = train_test_split(d1, d2, test_size=test_size, shuffle=True)\n",
        "\n",
        "kmeans.fit(X_train, y_train)\n",
        "y_pred =kmeans.predict(X_test)\n",
        "predictions = [round(value) for value in y_pred]\n",
        "accuracy = accuracy_score(y_test, predictions)\n",
        "M=confusion_matrix(y_test, predictions)\n",
        "print(confusion_matrix(y_test, predictions))\n",
        "print(\"Accuracy: %.2f%%\" % (accuracy * 100.0))\n",
        "print(\"F1 Score: {}\".format(f1_score(y_test,predictions)))\n",
        "print(\"Recall score: {}\".format(recall_score(y_test,predictions)))\n",
        "print(\"Precision score: {}\".format(precision_score(y_test,predictions)))\n",
        "print(\"MCC:\",matthews_corrcoef(y_test,predictions))\n",
        "print(\"TPR(sensitivity):\",M[0][0]/(M[0][0]+M[1][0]))\n",
        "print(\"TNR(specificity):\",M[1][1]/(M[1][1]+M[0][1]))\n",
        "print(\"FPR:\",M[1][0]/(M[0][0]+M[1][0]))\n",
        "print(\"FNR:\",M[0][1]/(M[1][1]+M[0][1]))"
      ],
      "execution_count": null,
      "outputs": [
        {
          "output_type": "stream",
          "text": [
            "[[13 30]\n",
            " [32 13]]\n",
            "Accuracy: 29.55%\n",
            "F1 Score: 0.2954545454545454\n",
            "Recall score: 0.28888888888888886\n",
            "Precision score: 0.3023255813953488\n",
            "MCC: -0.40878552971576226\n",
            "TPR(sensitivity): 0.28888888888888886\n",
            "TNR(specificity): 0.3023255813953488\n",
            "FPR: 0.7111111111111111\n",
            "FNR: 0.6976744186046512\n"
          ],
          "name": "stdout"
        }
      ]
    },
    {
      "cell_type": "markdown",
      "metadata": {
        "id": "ljS3atNsjSEB"
      },
      "source": [
        "**10.K medoids**"
      ]
    },
    {
      "cell_type": "code",
      "metadata": {
        "colab": {
          "base_uri": "https://localhost:8080/"
        },
        "id": "Qj1rdzXYhNUm",
        "outputId": "95117974-1016-42a3-f83a-09b0644f7ed3"
      },
      "source": [
        "!pip install scikit-learn-extra\n",
        "from sklearn_extra.cluster import KMedoids\n",
        "\n",
        "kmedoids = KMedoids(n_clusters=2, random_state=0)\n",
        "\n",
        "data=np.array(df)\n",
        "d1=data[:,:-1]\n",
        "d2=data[:,-1]\n",
        "\n",
        "#split dataset to train and test\n",
        "test_size = 0.30\n",
        "X_train, X_test, y_train, y_test = train_test_split(d1, d2, test_size=test_size, shuffle=True)\n",
        "\n",
        "kmedoids.fit(X_train, y_train)\n",
        "y_pred =kmedoids.predict(X_test)\n",
        "predictions = [round(value) for value in y_pred]\n",
        "accuracy = accuracy_score(y_test, predictions)\n",
        "M=confusion_matrix(y_test, predictions)\n",
        "print(confusion_matrix(y_test, predictions))\n",
        "print(\"Accuracy: %.2f%%\" % (accuracy * 100.0))\n",
        "print(\"F1 Score: {}\".format(f1_score(y_test,predictions)))\n",
        "print(\"Recall score: {}\".format(recall_score(y_test,predictions)))\n",
        "print(\"Precision score: {}\".format(precision_score(y_test,predictions)))\n",
        "print(\"MCC:\",matthews_corrcoef(y_test,predictions))\n",
        "print(\"TPR(sensitivity):\",M[0][0]/(M[0][0]+M[1][0]))\n",
        "print(\"TNR(specificity):\",M[1][1]/(M[1][1]+M[0][1]))\n",
        "print(\"FPR:\",M[1][0]/(M[0][0]+M[1][0]))\n",
        "print(\"FNR:\",M[0][1]/(M[1][1]+M[0][1]))"
      ],
      "execution_count": null,
      "outputs": [
        {
          "output_type": "stream",
          "text": [
            "Collecting scikit-learn-extra\n",
            "\u001b[?25l  Downloading https://files.pythonhosted.org/packages/d1/dd/891d2ee7bd18af8f2e1df5d63a52ee96edd0eacc21bb9627072b1c5f6a6c/scikit-learn-extra-0.1.0b2.tar.gz (615kB)\n",
            "\r\u001b[K     |▌                               | 10kB 20.9MB/s eta 0:00:01\r\u001b[K     |█                               | 20kB 16.8MB/s eta 0:00:01\r\u001b[K     |█▋                              | 30kB 14.6MB/s eta 0:00:01\r\u001b[K     |██▏                             | 40kB 13.7MB/s eta 0:00:01\r\u001b[K     |██▋                             | 51kB 9.5MB/s eta 0:00:01\r\u001b[K     |███▏                            | 61kB 9.7MB/s eta 0:00:01\r\u001b[K     |███▊                            | 71kB 9.9MB/s eta 0:00:01\r\u001b[K     |████▎                           | 81kB 11.0MB/s eta 0:00:01\r\u001b[K     |████▉                           | 92kB 10.4MB/s eta 0:00:01\r\u001b[K     |█████▎                          | 102kB 9.1MB/s eta 0:00:01\r\u001b[K     |█████▉                          | 112kB 9.1MB/s eta 0:00:01\r\u001b[K     |██████▍                         | 122kB 9.1MB/s eta 0:00:01\r\u001b[K     |███████                         | 133kB 9.1MB/s eta 0:00:01\r\u001b[K     |███████▌                        | 143kB 9.1MB/s eta 0:00:01\r\u001b[K     |████████                        | 153kB 9.1MB/s eta 0:00:01\r\u001b[K     |████████▌                       | 163kB 9.1MB/s eta 0:00:01\r\u001b[K     |█████████                       | 174kB 9.1MB/s eta 0:00:01\r\u001b[K     |█████████▋                      | 184kB 9.1MB/s eta 0:00:01\r\u001b[K     |██████████▏                     | 194kB 9.1MB/s eta 0:00:01\r\u001b[K     |██████████▋                     | 204kB 9.1MB/s eta 0:00:01\r\u001b[K     |███████████▏                    | 215kB 9.1MB/s eta 0:00:01\r\u001b[K     |███████████▊                    | 225kB 9.1MB/s eta 0:00:01\r\u001b[K     |████████████▎                   | 235kB 9.1MB/s eta 0:00:01\r\u001b[K     |████████████▉                   | 245kB 9.1MB/s eta 0:00:01\r\u001b[K     |█████████████▎                  | 256kB 9.1MB/s eta 0:00:01\r\u001b[K     |█████████████▉                  | 266kB 9.1MB/s eta 0:00:01\r\u001b[K     |██████████████▍                 | 276kB 9.1MB/s eta 0:00:01\r\u001b[K     |███████████████                 | 286kB 9.1MB/s eta 0:00:01\r\u001b[K     |███████████████▌                | 296kB 9.1MB/s eta 0:00:01\r\u001b[K     |████████████████                | 307kB 9.1MB/s eta 0:00:01\r\u001b[K     |████████████████▌               | 317kB 9.1MB/s eta 0:00:01\r\u001b[K     |█████████████████               | 327kB 9.1MB/s eta 0:00:01\r\u001b[K     |█████████████████▋              | 337kB 9.1MB/s eta 0:00:01\r\u001b[K     |██████████████████              | 348kB 9.1MB/s eta 0:00:01\r\u001b[K     |██████████████████▋             | 358kB 9.1MB/s eta 0:00:01\r\u001b[K     |███████████████████▏            | 368kB 9.1MB/s eta 0:00:01\r\u001b[K     |███████████████████▊            | 378kB 9.1MB/s eta 0:00:01\r\u001b[K     |████████████████████▎           | 389kB 9.1MB/s eta 0:00:01\r\u001b[K     |████████████████████▊           | 399kB 9.1MB/s eta 0:00:01\r\u001b[K     |█████████████████████▎          | 409kB 9.1MB/s eta 0:00:01\r\u001b[K     |█████████████████████▉          | 419kB 9.1MB/s eta 0:00:01\r\u001b[K     |██████████████████████▍         | 430kB 9.1MB/s eta 0:00:01\r\u001b[K     |███████████████████████         | 440kB 9.1MB/s eta 0:00:01\r\u001b[K     |███████████████████████▍        | 450kB 9.1MB/s eta 0:00:01\r\u001b[K     |████████████████████████        | 460kB 9.1MB/s eta 0:00:01\r\u001b[K     |████████████████████████▌       | 471kB 9.1MB/s eta 0:00:01\r\u001b[K     |█████████████████████████       | 481kB 9.1MB/s eta 0:00:01\r\u001b[K     |█████████████████████████▋      | 491kB 9.1MB/s eta 0:00:01\r\u001b[K     |██████████████████████████      | 501kB 9.1MB/s eta 0:00:01\r\u001b[K     |██████████████████████████▋     | 512kB 9.1MB/s eta 0:00:01\r\u001b[K     |███████████████████████████▏    | 522kB 9.1MB/s eta 0:00:01\r\u001b[K     |███████████████████████████▊    | 532kB 9.1MB/s eta 0:00:01\r\u001b[K     |████████████████████████████▎   | 542kB 9.1MB/s eta 0:00:01\r\u001b[K     |████████████████████████████▊   | 552kB 9.1MB/s eta 0:00:01\r\u001b[K     |█████████████████████████████▎  | 563kB 9.1MB/s eta 0:00:01\r\u001b[K     |█████████████████████████████▉  | 573kB 9.1MB/s eta 0:00:01\r\u001b[K     |██████████████████████████████▍ | 583kB 9.1MB/s eta 0:00:01\r\u001b[K     |███████████████████████████████ | 593kB 9.1MB/s eta 0:00:01\r\u001b[K     |███████████████████████████████▍| 604kB 9.1MB/s eta 0:00:01\r\u001b[K     |████████████████████████████████| 614kB 9.1MB/s eta 0:00:01\r\u001b[K     |████████████████████████████████| 624kB 9.1MB/s \n",
            "\u001b[?25h  Installing build dependencies ... \u001b[?25l\u001b[?25hdone\n",
            "  Getting requirements to build wheel ... \u001b[?25l\u001b[?25hdone\n",
            "    Preparing wheel metadata ... \u001b[?25l\u001b[?25hdone\n",
            "Requirement already satisfied: numpy>=1.13.3 in /usr/local/lib/python3.7/dist-packages (from scikit-learn-extra) (1.19.5)\n",
            "Requirement already satisfied: scikit-learn>=0.21.0 in /usr/local/lib/python3.7/dist-packages (from scikit-learn-extra) (0.22.2.post1)\n",
            "Requirement already satisfied: scipy>=0.19.1 in /usr/local/lib/python3.7/dist-packages (from scikit-learn-extra) (1.4.1)\n",
            "Requirement already satisfied: joblib>=0.11 in /usr/local/lib/python3.7/dist-packages (from scikit-learn>=0.21.0->scikit-learn-extra) (1.0.1)\n",
            "Building wheels for collected packages: scikit-learn-extra\n",
            "  Building wheel for scikit-learn-extra (PEP 517) ... \u001b[?25l\u001b[?25hdone\n",
            "  Created wheel for scikit-learn-extra: filename=scikit_learn_extra-0.1.0b2-cp37-cp37m-linux_x86_64.whl size=339934 sha256=e9eadb7e2cb6ef3d978a422a0c3a39ad615407dcfe60f5c562f24aa6a72d1894\n",
            "  Stored in directory: /root/.cache/pip/wheels/04/01/0f/943bffb48bac048fa216b4325f1a6c939491ccb0ff500e08f4\n",
            "Successfully built scikit-learn-extra\n",
            "Installing collected packages: scikit-learn-extra\n",
            "Successfully installed scikit-learn-extra-0.1.0b2\n",
            "[[22 19]\n",
            " [13 34]]\n",
            "Accuracy: 63.64%\n",
            "F1 Score: 0.68\n",
            "Recall score: 0.723404255319149\n",
            "Precision score: 0.6415094339622641\n",
            "MCC: 0.2649872093821886\n",
            "TPR(sensitivity): 0.6285714285714286\n",
            "TNR(specificity): 0.6415094339622641\n",
            "FPR: 0.37142857142857144\n",
            "FNR: 0.3584905660377358\n"
          ],
          "name": "stdout"
        }
      ]
    },
    {
      "cell_type": "code",
      "metadata": {
        "colab": {
          "base_uri": "https://localhost:8080/"
        },
        "id": "Gmec_Hqp7Nwu",
        "outputId": "51dfb6dc-0cc3-4807-cde8-4f85598c2fd2"
      },
      "source": [
        "itr=100\n",
        "Acc=0\n",
        "F1=0\n",
        "Recall=0\n",
        "Prec=0\n",
        "MCC=0\n",
        "TPR=0\n",
        "TNR=0\n",
        "FPR=0\n",
        "FNR=0\n",
        "\n",
        "\n",
        "for i in range(itr):\n",
        "  \n",
        "  from sklearn_extra.cluster import KMedoids\n",
        "\n",
        "  kmedoids = KMedoids(n_clusters=2, random_state=0)\n",
        "\n",
        "  data=np.array(df)\n",
        "  d1=data[:,:-1]\n",
        "  d2=data[:,-1]\n",
        "\n",
        "  #split dataset to train and test\n",
        "  test_size = 0.30\n",
        "  X_train, X_test, y_train, y_test = train_test_split(d1, d2, test_size=test_size, shuffle=True)\n",
        "\n",
        "  kmedoids.fit(X_train, y_train)\n",
        "  y_pred =kmedoids.predict(X_test)\n",
        "  predictions = [round(value) for value in y_pred]\n",
        "  accuracy = accuracy_score(y_test, predictions)\n",
        "\n",
        "\n",
        "  M=confusion_matrix(y_test, predictions)\n",
        "  # print(confusion_matrix(y_test, predictions))\n",
        "  Acc=Acc + accuracy * 100.0\n",
        "  F1=F1+ f1_score(y_test,predictions)\n",
        "  Recall= Recall + recall_score(y_test,predictions)\n",
        "  Prec =Prec + precision_score(y_test,predictions)\n",
        "  MCC=MCC+matthews_corrcoef(y_test,predictions)\n",
        "  TPR=TPR+ (M[0][0]/(M[0][0]+M[1][0]))\n",
        "  TNR=TNR+ (M[1][1]/(M[1][1]+M[0][1]))\n",
        "  FPR=FPR+ (M[1][0]/(M[0][0]+M[1][0]))\n",
        "  FNR=FNR+ (M[0][1]/(M[1][1]+M[0][1]))\n",
        "\n",
        "print(\"Accuracy: %.2f%%\" % (Acc/itr))\n",
        "print(\"F1 Score: {}\".format(F1/itr))\n",
        "print(\"Recall score: {}\".format(Recall/itr))\n",
        "print(\"Precision score: {}\".format(Prec/itr))\n",
        "print(\"MCC:\",MCC/itr)\n",
        "print(\"TPR(sensitivity):\",TPR/itr)\n",
        "print(\"TNR(specificity):\",TNR/itr)\n",
        "print(\"FPR:\",FPR/itr)\n",
        "print(\"FNR:\",FNR/itr)"
      ],
      "execution_count": null,
      "outputs": [
        {
          "output_type": "stream",
          "text": [
            "Accuracy: 52.03%\n",
            "F1 Score: 0.524308648866512\n",
            "Recall score: 0.5250831327437738\n",
            "Precision score: 0.5333046179613039\n",
            "MCC: 0.04186987371386431\n",
            "TPR(sensitivity): 0.5080647280422778\n",
            "TNR(specificity): 0.5333046179613039\n",
            "FPR: 0.49193527195772224\n",
            "FNR: 0.466695382038696\n"
          ],
          "name": "stdout"
        }
      ]
    },
    {
      "cell_type": "code",
      "metadata": {
        "colab": {
          "base_uri": "https://localhost:8080/"
        },
        "id": "Q0pFgvA0d6vx",
        "outputId": "da54824e-d0d9-4c06-b524-35c6b7c468cf"
      },
      "source": [
        "model =XGBClassifier(\n",
        " learning_rate =0.002447146072603612,\n",
        " n_estimators=5000,\n",
        " max_depth=1,\n",
        " min_child_weight=1,\n",
        " gamma=0.0024674117613464074,\n",
        " subsample=1.0,\n",
        " colsample_bytree=1e-06,\n",
        " objective= 'binary:logistic',\n",
        "  reg_alpha=0.015474296722426327,\n",
        "  reg_lambda=1\n",
        " )\n",
        "model"
      ],
      "execution_count": null,
      "outputs": [
        {
          "output_type": "execute_result",
          "data": {
            "text/plain": [
              "XGBClassifier(base_score=0.5, booster='gbtree', colsample_bylevel=1,\n",
              "              colsample_bynode=1, colsample_bytree=1e-06,\n",
              "              gamma=0.0024674117613464074, learning_rate=0.002447146072603612,\n",
              "              max_delta_step=0, max_depth=1, min_child_weight=1, missing=None,\n",
              "              n_estimators=5000, n_jobs=1, nthread=None,\n",
              "              objective='binary:logistic', random_state=0,\n",
              "              reg_alpha=0.015474296722426327, reg_lambda=1, scale_pos_weight=1,\n",
              "              seed=None, silent=None, subsample=1.0, verbosity=1)"
            ]
          },
          "metadata": {
            "tags": []
          },
          "execution_count": 3
        }
      ]
    }
  ]
}